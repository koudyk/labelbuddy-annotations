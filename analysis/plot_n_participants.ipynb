{
 "cells": [
  {
   "cell_type": "markdown",
   "id": "ddbaf1d3",
   "metadata": {},
   "source": [
    "# Plot the number of participants"
   ]
  },
  {
   "cell_type": "code",
   "execution_count": 1,
   "id": "be920aa1",
   "metadata": {},
   "outputs": [],
   "source": [
    "import os\n",
    "\n",
    "import pandas as pd\n",
    "import matplotlib.pyplot as plt"
   ]
  },
  {
   "cell_type": "markdown",
   "id": "c41142dc",
   "metadata": {},
   "source": [
    "## Load the data\n",
    "it's a .csv that contains all the annotations in this repo, with one row per annotation"
   ]
  },
  {
   "cell_type": "code",
   "execution_count": 2,
   "id": "a7f8c690",
   "metadata": {},
   "outputs": [
    {
     "data": {
      "text/html": [
       "<div>\n",
       "<style scoped>\n",
       "    .dataframe tbody tr th:only-of-type {\n",
       "        vertical-align: middle;\n",
       "    }\n",
       "\n",
       "    .dataframe tbody tr th {\n",
       "        vertical-align: top;\n",
       "    }\n",
       "\n",
       "    .dataframe thead th {\n",
       "        text-align: right;\n",
       "    }\n",
       "</style>\n",
       "<table border=\"1\" class=\"dataframe\">\n",
       "  <thead>\n",
       "    <tr style=\"text-align: right;\">\n",
       "      <th></th>\n",
       "      <th>pmcid</th>\n",
       "      <th>doi</th>\n",
       "      <th>document_utf8_text_md5_checksum</th>\n",
       "      <th>document_file</th>\n",
       "      <th>document_from_project</th>\n",
       "      <th>annotation_label_name</th>\n",
       "      <th>annotated_text</th>\n",
       "      <th>annotated_sentence</th>\n",
       "      <th>annotated_paragraph</th>\n",
       "      <th>annotation_file</th>\n",
       "      <th>annotation_project</th>\n",
       "      <th>labelbuddy_display_title</th>\n",
       "    </tr>\n",
       "  </thead>\n",
       "  <tbody>\n",
       "    <tr>\n",
       "      <th>0</th>\n",
       "      <td>7563756</td>\n",
       "      <td>10.3390/brainsci10090603</td>\n",
       "      <td>57be0e414d83cf88df7d14070e3ea9dd</td>\n",
       "      <td>documents_00001.jsonl</td>\n",
       "      <td>participant_demographics</td>\n",
       "      <td>N participants</td>\n",
       "      <td>Twenty-nine</td>\n",
       "      <td>Subjects and Experimental Design \\n  \\nTwenty...</td>\n",
       "      <td>Twenty-nine healthy volunteers participated in...</td>\n",
       "      <td>Jerome_Dockes.json</td>\n",
       "      <td>participant_demographics</td>\n",
       "      <td>pmcid: &lt;a href=https://www.ncbi.nlm.nih.gov/pm...</td>\n",
       "    </tr>\n",
       "    <tr>\n",
       "      <th>1</th>\n",
       "      <td>5030332</td>\n",
       "      <td>10.1016/j.nicl.2016.07.006</td>\n",
       "      <td>9eef6f93a376b2d0833d2fe6dc4fb6a3</td>\n",
       "      <td>documents_00001.jsonl</td>\n",
       "      <td>participant_demographics</td>\n",
       "      <td>N participants</td>\n",
       "      <td>21</td>\n",
       "      <td>\\n\\n## Method \\n  \\n### Participants \\n  \\nTh...</td>\n",
       "      <td>The sample consisted of 21 participants who me...</td>\n",
       "      <td>Jerome_Dockes.json</td>\n",
       "      <td>participant_demographics</td>\n",
       "      <td>pmcid: &lt;a href=https://www.ncbi.nlm.nih.gov/pm...</td>\n",
       "    </tr>\n",
       "    <tr>\n",
       "      <th>2</th>\n",
       "      <td>6678781</td>\n",
       "      <td>10.3390/jcm8070947</td>\n",
       "      <td>bfd271e0496c07e5675e92cb777729c0</td>\n",
       "      <td>documents_00001.jsonl</td>\n",
       "      <td>participant_demographics</td>\n",
       "      <td>N participants</td>\n",
       "      <td>Seventy-nine</td>\n",
       "      <td>Seventy-nine male pedophilic CSOs were examin...</td>\n",
       "      <td>High prevalence of child sexual offending stan...</td>\n",
       "      <td>Jerome_Dockes.json</td>\n",
       "      <td>participant_demographics</td>\n",
       "      <td>pmcid: &lt;a href=https://www.ncbi.nlm.nih.gov/pm...</td>\n",
       "    </tr>\n",
       "  </tbody>\n",
       "</table>\n",
       "</div>"
      ],
      "text/plain": [
       "     pmcid                         doi   document_utf8_text_md5_checksum  \\\n",
       "0  7563756    10.3390/brainsci10090603  57be0e414d83cf88df7d14070e3ea9dd   \n",
       "1  5030332  10.1016/j.nicl.2016.07.006  9eef6f93a376b2d0833d2fe6dc4fb6a3   \n",
       "2  6678781          10.3390/jcm8070947  bfd271e0496c07e5675e92cb777729c0   \n",
       "\n",
       "           document_file     document_from_project annotation_label_name  \\\n",
       "0  documents_00001.jsonl  participant_demographics        N participants   \n",
       "1  documents_00001.jsonl  participant_demographics        N participants   \n",
       "2  documents_00001.jsonl  participant_demographics        N participants   \n",
       "\n",
       "  annotated_text                                 annotated_sentence  \\\n",
       "0    Twenty-nine   Subjects and Experimental Design \\n  \\nTwenty...   \n",
       "1             21   \\n\\n## Method \\n  \\n### Participants \\n  \\nTh...   \n",
       "2  Seventy-nine    Seventy-nine male pedophilic CSOs were examin...   \n",
       "\n",
       "                                 annotated_paragraph     annotation_file  \\\n",
       "0  Twenty-nine healthy volunteers participated in...  Jerome_Dockes.json   \n",
       "1  The sample consisted of 21 participants who me...  Jerome_Dockes.json   \n",
       "2  High prevalence of child sexual offending stan...  Jerome_Dockes.json   \n",
       "\n",
       "         annotation_project                           labelbuddy_display_title  \n",
       "0  participant_demographics  pmcid: <a href=https://www.ncbi.nlm.nih.gov/pm...  \n",
       "1  participant_demographics  pmcid: <a href=https://www.ncbi.nlm.nih.gov/pm...  \n",
       "2  participant_demographics  pmcid: <a href=https://www.ncbi.nlm.nih.gov/pm...  "
      ]
     },
     "execution_count": 2,
     "metadata": {},
     "output_type": "execute_result"
    }
   ],
   "source": [
    "current_folder = globals()['_dh'][0]\n",
    "data_path = os.path.join(current_folder, \"all_annotations.csv\")\n",
    "df = pd.read_csv(data_path, index_col=False)\n",
    "df.pmcid = df.pmcid.astype(int)\n",
    "df.head(3)"
   ]
  },
  {
   "cell_type": "markdown",
   "id": "ad55cb5f",
   "metadata": {},
   "source": [
    "## View labels used in each project"
   ]
  },
  {
   "cell_type": "code",
   "execution_count": 3,
   "id": "e6a679dd",
   "metadata": {},
   "outputs": [
    {
     "name": "stdout",
     "output_type": "stream",
     "text": [
      "Project:  AUTISM_MRI\n",
      "Labels: \n",
      "\t Age_Max\n",
      "\t Age_Min\n",
      "\t AnalysisTool\n",
      "\t Diagnosis\n",
      "\t FieldStrength\n",
      "\t MRI_Modality\n",
      "\t N_Controls\n",
      "\t N_Controls_Female\n",
      "\t N_Controls_Male\n",
      "\t N_Patients\n",
      "\t N_Patients_Female\n",
      "\t N_Patients_Male\n",
      "\t N_Total\n",
      "\t Scanner\n",
      "-----------------------\n",
      "Project:  CLUSTER_INFERENCE\n",
      "Labels: \n",
      "\t annotation_in_progress\n",
      "\t bad_methods_example\n",
      "\t cluster_thresh_in_mm\n",
      "\t cluster_thresh_in_voxels\n",
      "\t cluster_thresh_used\n",
      "\t difficult_annotation_example\n",
      "\t discard_this_paper\n",
      "\t funny_topic\n",
      "\t info_removed_in_text_extract\n",
      "\t n_participants\n",
      "\t n_participants_excluded\n",
      "\t n_participants_in_subgroup\n",
      "\t n_participants_total\n",
      "\t nonparametric_cluster_thresh\n",
      "\t smoothing_snippet\n",
      "\t voxel_size_snippet\n",
      "-----------------------\n",
      "Project:  PARTICIPANT_DEMOGRAPHICS\n",
      "Labels: \n",
      "\t N included\n",
      "\t N participants\n",
      "-----------------------\n"
     ]
    }
   ],
   "source": [
    "for project, group in df.groupby(\"document_from_project\"):\n",
    "    print('Project: ', project.upper())\n",
    "    labels = list(set(group['annotation_label_name']))\n",
    "    labels.sort()\n",
    "    print('Labels: ')\n",
    "    for label in labels:\n",
    "        print(\"\\t\", label)\n",
    "    print('-----------------------')\n",
    "    "
   ]
  },
  {
   "cell_type": "markdown",
   "id": "8eacd28f",
   "metadata": {},
   "source": [
    "## Choose which labels to use\n",
    "by inspecting the lists above"
   ]
  },
  {
   "cell_type": "code",
   "execution_count": 4,
   "id": "d05bd8aa",
   "metadata": {},
   "outputs": [],
   "source": [
    "select_labels = [\n",
    "    \"N included\",\n",
    "    \"n_participants\",\n",
    "    \"n_participants_total\",\n",
    "    \"N_Total\"\n",
    "]"
   ]
  },
  {
   "cell_type": "markdown",
   "id": "ddf695d3",
   "metadata": {},
   "source": [
    "## Select the subset of the dataframe that contains one of our select labels"
   ]
  },
  {
   "cell_type": "code",
   "execution_count": 5,
   "id": "bb0c8789",
   "metadata": {},
   "outputs": [
    {
     "data": {
      "text/html": [
       "<div>\n",
       "<style scoped>\n",
       "    .dataframe tbody tr th:only-of-type {\n",
       "        vertical-align: middle;\n",
       "    }\n",
       "\n",
       "    .dataframe tbody tr th {\n",
       "        vertical-align: top;\n",
       "    }\n",
       "\n",
       "    .dataframe thead th {\n",
       "        text-align: right;\n",
       "    }\n",
       "</style>\n",
       "<table border=\"1\" class=\"dataframe\">\n",
       "  <thead>\n",
       "    <tr style=\"text-align: right;\">\n",
       "      <th></th>\n",
       "      <th>pmcid</th>\n",
       "      <th>doi</th>\n",
       "      <th>document_utf8_text_md5_checksum</th>\n",
       "      <th>document_file</th>\n",
       "      <th>document_from_project</th>\n",
       "      <th>annotation_label_name</th>\n",
       "      <th>annotated_text</th>\n",
       "      <th>annotated_sentence</th>\n",
       "      <th>annotated_paragraph</th>\n",
       "      <th>annotation_file</th>\n",
       "      <th>annotation_project</th>\n",
       "      <th>labelbuddy_display_title</th>\n",
       "    </tr>\n",
       "  </thead>\n",
       "  <tbody>\n",
       "    <tr>\n",
       "      <th>3</th>\n",
       "      <td>6678781</td>\n",
       "      <td>10.3390/jcm8070947</td>\n",
       "      <td>bfd271e0496c07e5675e92cb777729c0</td>\n",
       "      <td>documents_00001.jsonl</td>\n",
       "      <td>participant_demographics</td>\n",
       "      <td>N included</td>\n",
       "      <td>Sixty-one</td>\n",
       "      <td>Sixty-one participants (38 convicted) underwe...</td>\n",
       "      <td>High prevalence of child sexual offending stan...</td>\n",
       "      <td>Jerome_Dockes.json</td>\n",
       "      <td>participant_demographics</td>\n",
       "      <td>pmcid: &lt;a href=https://www.ncbi.nlm.nih.gov/pm...</td>\n",
       "    </tr>\n",
       "    <tr>\n",
       "      <th>9</th>\n",
       "      <td>8154462</td>\n",
       "      <td>10.1097/MD.0000000000025823</td>\n",
       "      <td>df8efced4b837b724fc973e8161c67e7</td>\n",
       "      <td>documents_00001.jsonl</td>\n",
       "      <td>participant_demographics</td>\n",
       "      <td>N included</td>\n",
       "      <td>20</td>\n",
       "      <td>Using fMRI in 20 participants (11 right MCA i...</td>\n",
       "      <td>Sexual dysfunction is a common problem after c...</td>\n",
       "      <td>Jerome_Dockes.json</td>\n",
       "      <td>participant_demographics</td>\n",
       "      <td>pmcid: &lt;a href=https://www.ncbi.nlm.nih.gov/pm...</td>\n",
       "    </tr>\n",
       "    <tr>\n",
       "      <th>11</th>\n",
       "      <td>5324609</td>\n",
       "      <td>10.1002/hipo.22688</td>\n",
       "      <td>16ef9d7ab42b76b944ac37702a03bbb3</td>\n",
       "      <td>documents_00001.jsonl</td>\n",
       "      <td>participant_demographics</td>\n",
       "      <td>N included</td>\n",
       "      <td>15</td>\n",
       "      <td>As such, analyses reported here used data fro...</td>\n",
       "      <td>Twenty‐three right‐handed students were recrui...</td>\n",
       "      <td>Jerome_Dockes.json</td>\n",
       "      <td>participant_demographics</td>\n",
       "      <td>pmcid: &lt;a href=https://www.ncbi.nlm.nih.gov/pm...</td>\n",
       "    </tr>\n",
       "  </tbody>\n",
       "</table>\n",
       "</div>"
      ],
      "text/plain": [
       "      pmcid                          doi   document_utf8_text_md5_checksum  \\\n",
       "3   6678781           10.3390/jcm8070947  bfd271e0496c07e5675e92cb777729c0   \n",
       "9   8154462  10.1097/MD.0000000000025823  df8efced4b837b724fc973e8161c67e7   \n",
       "11  5324609           10.1002/hipo.22688  16ef9d7ab42b76b944ac37702a03bbb3   \n",
       "\n",
       "            document_file     document_from_project annotation_label_name  \\\n",
       "3   documents_00001.jsonl  participant_demographics            N included   \n",
       "9   documents_00001.jsonl  participant_demographics            N included   \n",
       "11  documents_00001.jsonl  participant_demographics            N included   \n",
       "\n",
       "   annotated_text                                 annotated_sentence  \\\n",
       "3       Sixty-one   Sixty-one participants (38 convicted) underwe...   \n",
       "9              20   Using fMRI in 20 participants (11 right MCA i...   \n",
       "11             15   As such, analyses reported here used data fro...   \n",
       "\n",
       "                                  annotated_paragraph     annotation_file  \\\n",
       "3   High prevalence of child sexual offending stan...  Jerome_Dockes.json   \n",
       "9   Sexual dysfunction is a common problem after c...  Jerome_Dockes.json   \n",
       "11  Twenty‐three right‐handed students were recrui...  Jerome_Dockes.json   \n",
       "\n",
       "          annotation_project  \\\n",
       "3   participant_demographics   \n",
       "9   participant_demographics   \n",
       "11  participant_demographics   \n",
       "\n",
       "                             labelbuddy_display_title  \n",
       "3   pmcid: <a href=https://www.ncbi.nlm.nih.gov/pm...  \n",
       "9   pmcid: <a href=https://www.ncbi.nlm.nih.gov/pm...  \n",
       "11  pmcid: <a href=https://www.ncbi.nlm.nih.gov/pm...  "
      ]
     },
     "execution_count": 5,
     "metadata": {},
     "output_type": "execute_result"
    }
   ],
   "source": [
    "df_subset = df[df[\"annotation_label_name\"].isin(select_labels)]\n",
    "df_subset.head(3)"
   ]
  },
  {
   "cell_type": "markdown",
   "id": "0219d623",
   "metadata": {},
   "source": [
    "## [make sure there's only one row for each pmid]"
   ]
  },
  {
   "cell_type": "markdown",
   "id": "68fec197",
   "metadata": {},
   "source": [
    "## Convert the annotated text to integers\n",
    "this is not the best way, I think. "
   ]
  },
  {
   "cell_type": "code",
   "execution_count": 6,
   "id": "43f0c89b",
   "metadata": {},
   "outputs": [
    {
     "name": "stderr",
     "output_type": "stream",
     "text": [
      "/tmp/ipykernel_41947/1627780195.py:22: SettingWithCopyWarning: \n",
      "A value is trying to be set on a copy of a slice from a DataFrame.\n",
      "Try using .loc[row_indexer,col_indexer] = value instead\n",
      "\n",
      "See the caveats in the documentation: https://pandas.pydata.org/pandas-docs/stable/user_guide/indexing.html#returning-a-view-versus-a-copy\n",
      "  df_subset.loc[i, \"n_ptp_int\"] = n_int\n"
     ]
    }
   ],
   "source": [
    "from participants_demographics import _reading\n",
    "\n",
    "\n",
    "class TextToNumber:\n",
    "    def __init__(self):\n",
    "        self.parser = _reading._get_parser(\n",
    "            start=\"number\", ambiguity=\"resolve\", grammar=\"numbers_grammar\"\n",
    "        )\n",
    "        self.transformer = _reading.ParticipantsTransformer(0)\n",
    "\n",
    "    def __call__(self, text):\n",
    "        try:\n",
    "            parse_tree = self.parser.parse(text)\n",
    "            return self.transformer.transform(parse_tree).value\n",
    "        except Exception:\n",
    "            return None\n",
    "text_to_num = TextToNumber()\n",
    "\n",
    "for i, row in df_subset.iterrows():\n",
    "    n_str = row['annotated_text']\n",
    "    n_int = text_to_num(n_str)\n",
    "    df_subset.loc[i, \"n_ptp_int\"] = n_int"
   ]
  },
  {
   "cell_type": "code",
   "execution_count": 7,
   "id": "357b35a2",
   "metadata": {},
   "outputs": [
    {
     "data": {
      "text/plain": [
       "Text(0.5, 0, 'Number of participants')"
      ]
     },
     "execution_count": 7,
     "metadata": {},
     "output_type": "execute_result"
    },
    {
     "data": {
      "image/png": "[encoded data removed]",
      "text/plain": [
       "<Figure size 640x480 with 1 Axes>"
      ]
     },
     "metadata": {},
     "output_type": "display_data"
    }
   ],
   "source": [
    "fig, ax = plt.subplots()\n",
    "df_subset['n_ptp_int'].hist()\n",
    "ax.set_ylabel('Number of papers')\n",
    "ax.set_xlabel('Number of participants')"
   ]
  }
 ],
 "metadata": {
  "kernelspec": {
   "display_name": "Python 3",
   "language": "python",
   "name": "python3"
  },
  "language_info": {
   "codemirror_mode": {
    "name": "ipython",
    "version": 3
   },
   "file_extension": ".py",
   "mimetype": "text/x-python",
   "name": "python",
   "nbconvert_exporter": "python",
   "pygments_lexer": "ipython3",
   "version": "3.8.10"
  }
 },
 "nbformat": 4,
 "nbformat_minor": 5
}
