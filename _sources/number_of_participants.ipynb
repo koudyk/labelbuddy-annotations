{
 "cells": [
  {
   "cell_type": "markdown",
   "id": "a5dfbd0d",
   "metadata": {},
   "source": [
    "# Number of participants (sample size)\n",
    "\n",
    "One of the first things we started annotating is the number of participants for each study.\n",
    "More annotations are needed, and we need to harmonize the way this is done across projects (in particular the label names), but these annotations can already give an approximation of the number of participants in typical MRI studies, and be used to validate systems that aim to extract that information automatically.\n",
    "\n",
    "## Loading the data"
   ]
  },
  {
   "cell_type": "code",
   "execution_count": 1,
   "id": "80a7decf",
   "metadata": {},
   "outputs": [
    {
     "data": {
      "text/html": [
       "<div>\n",
       "<style scoped>\n",
       "    .dataframe tbody tr th:only-of-type {\n",
       "        vertical-align: middle;\n",
       "    }\n",
       "\n",
       "    .dataframe tbody tr th {\n",
       "        vertical-align: top;\n",
       "    }\n",
       "\n",
       "    .dataframe thead th {\n",
       "        text-align: right;\n",
       "    }\n",
       "</style>\n",
       "<table border=\"1\" class=\"dataframe\">\n",
       "  <thead>\n",
       "    <tr style=\"text-align: right;\">\n",
       "      <th></th>\n",
       "      <th>selected_text</th>\n",
       "      <th>extra_data</th>\n",
       "      <th>publication_year</th>\n",
       "      <th>pmcid</th>\n",
       "    </tr>\n",
       "  </thead>\n",
       "  <tbody>\n",
       "    <tr>\n",
       "      <th>0</th>\n",
       "      <td>Sixty-one</td>\n",
       "      <td>61</td>\n",
       "      <td>2019</td>\n",
       "      <td>6678781</td>\n",
       "    </tr>\n",
       "    <tr>\n",
       "      <th>1</th>\n",
       "      <td>20</td>\n",
       "      <td>None</td>\n",
       "      <td>2021</td>\n",
       "      <td>8154462</td>\n",
       "    </tr>\n",
       "    <tr>\n",
       "      <th>2</th>\n",
       "      <td>15</td>\n",
       "      <td>None</td>\n",
       "      <td>2017</td>\n",
       "      <td>5324609</td>\n",
       "    </tr>\n",
       "    <tr>\n",
       "      <th>3</th>\n",
       "      <td>Forty-four patients with drug-naive, first-epi...</td>\n",
       "      <td>130</td>\n",
       "      <td>2018</td>\n",
       "      <td>6197719</td>\n",
       "    </tr>\n",
       "    <tr>\n",
       "      <th>4</th>\n",
       "      <td>30</td>\n",
       "      <td>None</td>\n",
       "      <td>2009</td>\n",
       "      <td>2748718</td>\n",
       "    </tr>\n",
       "  </tbody>\n",
       "</table>\n",
       "</div>"
      ],
      "text/plain": [
       "                                       selected_text extra_data  \\\n",
       "0                                          Sixty-one         61   \n",
       "1                                                 20       None   \n",
       "2                                                 15       None   \n",
       "3  Forty-four patients with drug-naive, first-epi...        130   \n",
       "4                                                 30       None   \n",
       "\n",
       "   publication_year    pmcid  \n",
       "0              2019  6678781  \n",
       "1              2021  8154462  \n",
       "2              2017  5324609  \n",
       "3              2018  6197719  \n",
       "4              2009  2748718  "
      ]
     },
     "execution_count": 1,
     "metadata": {},
     "output_type": "execute_result"
    }
   ],
   "source": [
    "import pandas as pd\n",
    "\n",
    "from labelrepo import database\n",
    "\n",
    "connection = database.get_database_connection()\n",
    "\n",
    "annotations = pd.read_sql(\n",
    "    \"\"\"\n",
    "    SELECT selected_text, extra_data, publication_year, pmcid\n",
    "    FROM  detailed_annotation\n",
    "    WHERE label_name IN\n",
    "      (\"N included\", \"n_participants\", \"n_participants_total\", \"N_Total\")\n",
    "    \"\"\",\n",
    "    connection,\n",
    ")\n",
    "\n",
    "annotations.head()"
   ]
  },
  {
   "cell_type": "markdown",
   "id": "fde649cb",
   "metadata": {},
   "source": [
    "## Converting the annotated text to integers\n",
    "\n",
    "In some cases, the text providing the number of participants has been highlighted but still needs to be converted to an actual number, as \"Twenty-four\" above.\n",
    "In some other cases, the annotator indicated the numerical value in the `extra_data` column:"
   ]
  },
  {
   "cell_type": "code",
   "execution_count": 2,
   "id": "b291890b",
   "metadata": {},
   "outputs": [
    {
     "data": {
      "text/html": [
       "<div>\n",
       "<style scoped>\n",
       "    .dataframe tbody tr th:only-of-type {\n",
       "        vertical-align: middle;\n",
       "    }\n",
       "\n",
       "    .dataframe tbody tr th {\n",
       "        vertical-align: top;\n",
       "    }\n",
       "\n",
       "    .dataframe thead th {\n",
       "        text-align: right;\n",
       "    }\n",
       "</style>\n",
       "<table border=\"1\" class=\"dataframe\">\n",
       "  <thead>\n",
       "    <tr style=\"text-align: right;\">\n",
       "      <th></th>\n",
       "      <th>selected_text</th>\n",
       "      <th>extra_data</th>\n",
       "      <th>publication_year</th>\n",
       "      <th>pmcid</th>\n",
       "    </tr>\n",
       "  </thead>\n",
       "  <tbody>\n",
       "    <tr>\n",
       "      <th>0</th>\n",
       "      <td>Sixty-one</td>\n",
       "      <td>61</td>\n",
       "      <td>2019</td>\n",
       "      <td>6678781</td>\n",
       "    </tr>\n",
       "    <tr>\n",
       "      <th>3</th>\n",
       "      <td>Forty-four patients with drug-naive, first-epi...</td>\n",
       "      <td>130</td>\n",
       "      <td>2018</td>\n",
       "      <td>6197719</td>\n",
       "    </tr>\n",
       "    <tr>\n",
       "      <th>7</th>\n",
       "      <td>After a detailed evaluation of inclusion and e...</td>\n",
       "      <td>87</td>\n",
       "      <td>2017</td>\n",
       "      <td>5665859</td>\n",
       "    </tr>\n",
       "    <tr>\n",
       "      <th>10</th>\n",
       "      <td>Consequently we analysed data for 220 adolesce...</td>\n",
       "      <td>248</td>\n",
       "      <td>2014</td>\n",
       "      <td>3991323</td>\n",
       "    </tr>\n",
       "    <tr>\n",
       "      <th>12</th>\n",
       "      <td>Two of them were removed</td>\n",
       "      <td>16</td>\n",
       "      <td>2018</td>\n",
       "      <td>6344389</td>\n",
       "    </tr>\n",
       "  </tbody>\n",
       "</table>\n",
       "</div>"
      ],
      "text/plain": [
       "                                        selected_text extra_data  \\\n",
       "0                                           Sixty-one         61   \n",
       "3   Forty-four patients with drug-naive, first-epi...        130   \n",
       "7   After a detailed evaluation of inclusion and e...         87   \n",
       "10  Consequently we analysed data for 220 adolesce...        248   \n",
       "12                           Two of them were removed         16   \n",
       "\n",
       "    publication_year    pmcid  \n",
       "0               2019  6678781  \n",
       "3               2018  6197719  \n",
       "7               2017  5665859  \n",
       "10              2014  3991323  \n",
       "12              2018  6344389  "
      ]
     },
     "execution_count": 2,
     "metadata": {},
     "output_type": "execute_result"
    }
   ],
   "source": [
    "annotations[annotations[\"extra_data\"].notnull()].head()"
   ]
  },
  {
   "cell_type": "markdown",
   "id": "a9f084f3",
   "metadata": {},
   "source": [
    "The following is just defining a function, `text_to_number`, for converting text to numbers, for example \"Twenty-four\" → 24. \n",
    "You can skip over it as it is not very relevant to the rest of this notebook."
   ]
  },
  {
   "cell_type": "code",
   "execution_count": 3,
   "id": "dad03d5f",
   "metadata": {
    "tags": [
     "hide-input"
    ]
   },
   "outputs": [],
   "source": [
    "import re\n",
    "\n",
    "import lark\n",
    "\n",
    "numbers_grammar = r\"\"\"\n",
    "number: NUMBER | text_number\n",
    "\n",
    "?text_number.1: hundred_text_number | dozen_text_number | TEEN_NAME | UNIT_NAME\n",
    "\n",
    "\n",
    "hundred_text_number.1: (dozen_text_number | UNIT_NAME) \"hundred\" [ \"and\" ] [ dozen_text_number | UNIT_NAME ]\n",
    "\n",
    "dozen_text_number.1: DOZEN_NAME [ UNIT_NAME ] | TEEN_NAME\n",
    "\n",
    "UNIT_NAME.1: \"one\"|\"two\"|\"three\"|\"four\"|\"five\"|\"six\"|\"seven\"|\"eight\"|\"nine\"\n",
    "\n",
    "TEEN_NAME.1: \"ten\"|\"eleven\"|\"twelve\"|\"thirteen\"|\"fourteen\"|\"fifteen\"\n",
    "    |\"sixteen\"|\"seventeen\"|\"eighteen\"|\"nineteen\"\n",
    "\n",
    "DOZEN_NAME.1: \"twenty\"|\"thirty\"|/fou?rty/|\"fifty\"|\"sixty\"|\"seventy\"|\"eighty\"\n",
    "    |\"ninety\"\n",
    "\n",
    "\n",
    "WS: /\\s+/\n",
    "PUNCT: /[^a-zA-Z0-9().]/\n",
    "\n",
    "%import common (NUMBER)\n",
    "%ignore WS\n",
    "%ignore PUNCT\n",
    "\"\"\"\n",
    "\n",
    "\n",
    "class NumberTransformer(lark.Transformer):\n",
    "    def number(self, tree) -> int:\n",
    "        return tree[0]\n",
    "\n",
    "    def hundred_text_number(self, tree) -> int:\n",
    "        hundred_part, rest = tree\n",
    "        if rest is None:\n",
    "            return 100 * hundred_part\n",
    "        return 100 * hundred_part + rest\n",
    "\n",
    "    def dozen_text_number(self, tree) -> int:\n",
    "        if len(tree) == 1:\n",
    "            teen = tree[0]\n",
    "            return teen\n",
    "        dozen, unit = tree\n",
    "        if unit is None:\n",
    "            return dozen\n",
    "        return dozen + unit\n",
    "\n",
    "    def UNIT_NAME(self, tree) -> int:\n",
    "        return (\n",
    "            \"zero one two three four five six seven eight nine\".split().index(\n",
    "                tree.value.lower()\n",
    "            )\n",
    "        )\n",
    "\n",
    "    def TEEN_NAME(self, tree) -> int:\n",
    "        return (\n",
    "            \"ten eleven twelve thirteen fourteen fifteen sixteen \"\n",
    "            \"seventeen eighteen nineteen\".split().index(tree.value.lower())\n",
    "            + 10\n",
    "        )\n",
    "\n",
    "    def DOZEN_NAME(self, tree) -> int:\n",
    "        return (\n",
    "            \"zero ten twenty thirty forty fifty sixty \"\n",
    "            \"seventy eighty ninety\".split().index(\n",
    "                tree.value.lower().replace(\"fourty\", \"forty\")\n",
    "            )\n",
    "        ) * 10\n",
    "\n",
    "    def NUMBER(self, tree) -> int:\n",
    "        return int(tree.value)\n",
    "\n",
    "\n",
    "class TextToNumber:\n",
    "    def __init__(self):\n",
    "        self.parser = lark.Lark(\n",
    "            numbers_grammar,\n",
    "            ambiguity=\"resolve\",\n",
    "            start=\"number\",\n",
    "            g_regex_flags=re.I,\n",
    "        )\n",
    "        self.transformer = NumberTransformer()\n",
    "\n",
    "    def __call__(self, text):\n",
    "        try:\n",
    "            parse_tree = self.parser.parse(text.replace(\",\", \"\"))\n",
    "            return self.transformer.transform(parse_tree)\n",
    "        except Exception:\n",
    "            return None\n",
    "\n",
    "\n",
    "text_to_number = TextToNumber()"
   ]
  },
  {
   "cell_type": "markdown",
   "id": "6aed8584",
   "metadata": {},
   "source": [
    "Now that we have the `text_to_number` function we use it to get the value for the number of participants wherever possible:"
   ]
  },
  {
   "cell_type": "code",
   "execution_count": 4,
   "id": "bf8c6d4d",
   "metadata": {},
   "outputs": [
    {
     "data": {
      "text/html": [
       "<div>\n",
       "<style scoped>\n",
       "    .dataframe tbody tr th:only-of-type {\n",
       "        vertical-align: middle;\n",
       "    }\n",
       "\n",
       "    .dataframe tbody tr th {\n",
       "        vertical-align: top;\n",
       "    }\n",
       "\n",
       "    .dataframe thead th {\n",
       "        text-align: right;\n",
       "    }\n",
       "</style>\n",
       "<table border=\"1\" class=\"dataframe\">\n",
       "  <thead>\n",
       "    <tr style=\"text-align: right;\">\n",
       "      <th></th>\n",
       "      <th>selected_text</th>\n",
       "      <th>extra_data</th>\n",
       "      <th>publication_year</th>\n",
       "      <th>pmcid</th>\n",
       "      <th>n_participants</th>\n",
       "    </tr>\n",
       "  </thead>\n",
       "  <tbody>\n",
       "    <tr>\n",
       "      <th>0</th>\n",
       "      <td>Sixty-one</td>\n",
       "      <td>61</td>\n",
       "      <td>2019</td>\n",
       "      <td>6678781</td>\n",
       "      <td>61</td>\n",
       "    </tr>\n",
       "    <tr>\n",
       "      <th>1</th>\n",
       "      <td>20</td>\n",
       "      <td>None</td>\n",
       "      <td>2021</td>\n",
       "      <td>8154462</td>\n",
       "      <td>20</td>\n",
       "    </tr>\n",
       "    <tr>\n",
       "      <th>2</th>\n",
       "      <td>15</td>\n",
       "      <td>None</td>\n",
       "      <td>2017</td>\n",
       "      <td>5324609</td>\n",
       "      <td>15</td>\n",
       "    </tr>\n",
       "    <tr>\n",
       "      <th>3</th>\n",
       "      <td>Forty-four patients with drug-naive, first-epi...</td>\n",
       "      <td>130</td>\n",
       "      <td>2018</td>\n",
       "      <td>6197719</td>\n",
       "      <td>130</td>\n",
       "    </tr>\n",
       "    <tr>\n",
       "      <th>4</th>\n",
       "      <td>30</td>\n",
       "      <td>None</td>\n",
       "      <td>2009</td>\n",
       "      <td>2748718</td>\n",
       "      <td>30</td>\n",
       "    </tr>\n",
       "  </tbody>\n",
       "</table>\n",
       "</div>"
      ],
      "text/plain": [
       "                                       selected_text extra_data  \\\n",
       "0                                          Sixty-one         61   \n",
       "1                                                 20       None   \n",
       "2                                                 15       None   \n",
       "3  Forty-four patients with drug-naive, first-epi...        130   \n",
       "4                                                 30       None   \n",
       "\n",
       "   publication_year    pmcid  n_participants  \n",
       "0              2019  6678781              61  \n",
       "1              2021  8154462              20  \n",
       "2              2017  5324609              15  \n",
       "3              2018  6197719             130  \n",
       "4              2009  2748718              30  "
      ]
     },
     "execution_count": 4,
     "metadata": {},
     "output_type": "execute_result"
    }
   ],
   "source": [
    "def get_n_participants(row):\n",
    "    try:\n",
    "        return int(row[\"extra_data\"])\n",
    "    except (TypeError, ValueError):\n",
    "        return text_to_number(row[\"selected_text\"])\n",
    "\n",
    "annotations[\"n_participants\"] = annotations.apply(get_n_participants, axis=1)\n",
    "annotations.dropna(subset=[\"n_participants\"], inplace=True)\n",
    "annotations[\"n_participants\"] = annotations[\"n_participants\"].astype(int)\n",
    "\n",
    "annotations.head()"
   ]
  },
  {
   "cell_type": "markdown",
   "id": "e6808e5b",
   "metadata": {},
   "source": [
    "## Distribution of sample sizes\n",
    "\n",
    "In case there are several annotations for the number of participants in the same article, we keep the largest one."
   ]
  },
  {
   "cell_type": "code",
   "execution_count": 5,
   "id": "43e1a707",
   "metadata": {},
   "outputs": [],
   "source": [
    "annotations = annotations.sort_values(\n",
    "    by=\"n_participants\", ascending=False\n",
    ").drop_duplicates(subset=\"pmcid\")"
   ]
  },
  {
   "cell_type": "markdown",
   "id": "36e40392",
   "metadata": {},
   "source": [
    "Now we plot in a histogram the distribution of sample sizes:"
   ]
  },
  {
   "cell_type": "code",
   "execution_count": 6,
   "id": "755d7a82",
   "metadata": {},
   "outputs": [
    {
     "data": {
      "image/png": "[encoded data removed]",
      "text/plain": [
       "<Figure size 1000x500 with 1 Axes>"
      ]
     },
     "metadata": {
      "filenames": {
       "image/png": "/home/runner/work/labelbuddy-annotations/labelbuddy-annotations/analysis/book/_build/jupyter_execute/number_of_participants_11_0.png"
      }
     },
     "output_type": "display_data"
    }
   ],
   "source": [
    "from matplotlib import pyplot as plt\n",
    "\n",
    "fig, ax = plt.subplots(figsize=(10, 5))\n",
    "annotations[\"n_participants\"].hist(bins=100, ax=ax)\n",
    "_ = ax.set_ylabel(\"Number of papers\")\n",
    "_ = ax.set_xlabel(\"Number of participants\")"
   ]
  },
  {
   "cell_type": "markdown",
   "id": "b9d9d114",
   "metadata": {},
   "source": [
    "One of the papers seems to have a very large sample size; but if we display the annotations we realize it's actually aggregating data from multiple studies:"
   ]
  },
  {
   "cell_type": "code",
   "execution_count": 7,
   "id": "79450e66",
   "metadata": {},
   "outputs": [
    {
     "data": {
      "text/html": [
       "<div>\n",
       "        <div>\n",
       "        <h5 style=\"margin-bottom: 0px;\">\n",
       "        <span\n",
       "        style=\"background-color: LightGray;\">\n",
       "        n_participants\n",
       "        </span>\n",
       "        </h5>\n",
       "        <p style=\"padding-left: 40px;\">\n",
       "        … restricted to right-handed healthy subjects and the context of normal mapping according to the studies’ BrainMap records.    Regarding the left IFJ we identified 180 experiments/contrasts comprising <span style=\"font-weight: bold; background-color: LightGray;\"\n",
       "           >2,274</span> subjects in 139 articles (from 730 single experiments in 2,434 participants in these studies in total). Consequently 2,764 of 8,301 locations reported in these papers were included in further analyse…\n",
       "        </p>\n",
       "        </div>\n",
       "\n",
       "\n",
       "        <div>\n",
       "        <h5 style=\"margin-bottom: 0px;\">\n",
       "        <span\n",
       "        style=\"background-color: LightGray;\">\n",
       "        n_participants\n",
       "        </span>\n",
       "        </h5>\n",
       "        <p style=\"padding-left: 40px;\">\n",
       "        … normal mapping according to the studies’ BrainMap records.    Regarding the left IFJ we identified 180 experiments/contrasts comprising 2,274 subjects in 139 articles (from 730 single experiments in <span style=\"font-weight: bold; background-color: LightGray;\"\n",
       "           >2,434</span> participants in these studies in total). Consequently 2,764 of 8,301 locations reported in these papers were included in further analyses. For the right IFJ 131 experiments in 1,767 subjects reported…\n",
       "        </p>\n",
       "        </div>\n",
       "        </div>"
      ],
      "text/plain": [
       "<labelrepo.displays.AnnotationsDisplay at 0x7f89e08ebee0>"
      ]
     },
     "execution_count": 7,
     "metadata": {},
     "output_type": "execute_result"
    }
   ],
   "source": [
    "from labelrepo import displays\n",
    "\n",
    "first_paper_anno = connection.execute(\n",
    "    \"\"\"\n",
    "    select *\n",
    "    from detailed_annotation\n",
    "    where label_name = 'n_participants' and pmcid = ?\n",
    "    \"\"\",\n",
    "    [int(annotations[\"pmcid\"].iat[0])],\n",
    ").fetchall()\n",
    "displays.AnnotationsDisplay(first_paper_anno)"
   ]
  },
  {
   "cell_type": "markdown",
   "id": "30db88c2",
   "metadata": {},
   "source": [
    "## Sample sizes over time\n",
    "\n",
    "We now display individual article's sample size and publication year:"
   ]
  },
  {
   "cell_type": "code",
   "execution_count": 8,
   "id": "3a69b88c",
   "metadata": {},
   "outputs": [
    {
     "data": {
      "image/png": "[encoded data removed]",
      "text/plain": [
       "<Figure size 640x480 with 1 Axes>"
      ]
     },
     "metadata": {
      "filenames": {
       "image/png": "/home/runner/work/labelbuddy-annotations/labelbuddy-annotations/analysis/book/_build/jupyter_execute/number_of_participants_15_0.png"
      }
     },
     "output_type": "display_data"
    }
   ],
   "source": [
    "fig, ax = plt.subplots()\n",
    "annotations.plot.scatter(x=\"publication_year\", y=\"n_participants\", ax=ax, alpha=0.3)\n",
    "ax.set_yscale(\"log\")"
   ]
  }
 ],
 "metadata": {
  "jupytext": {
   "text_representation": {
    "extension": ".md",
    "format_name": "myst",
    "format_version": 0.13,
    "jupytext_version": "1.14.1"
   }
  },
  "kernelspec": {
   "display_name": "Python 3 (ipykernel)",
   "language": "python",
   "name": "python3"
  },
  "language_info": {
   "codemirror_mode": {
    "name": "ipython",
    "version": 3
   },
   "file_extension": ".py",
   "mimetype": "text/x-python",
   "name": "python",
   "nbconvert_exporter": "python",
   "pygments_lexer": "ipython3",
   "version": "3.10.9"
  },
  "source_map": [
   12,
   22,
   40,
   47,
   49,
   54,
   152,
   156,
   168,
   174,
   178,
   182,
   189,
   193,
   205,
   211
  ]
 },
 "nbformat": 4,
 "nbformat_minor": 5
}