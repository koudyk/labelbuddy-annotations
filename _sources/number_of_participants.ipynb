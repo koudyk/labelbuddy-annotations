{
 "cells": [
  {
   "cell_type": "markdown",
   "id": "04176235",
   "metadata": {},
   "source": [
    "# Number of participants (sample size)\n",
    "\n",
    "One of the first things we started annotating is the number of participants for each study.\n",
    "More annotations are needed, and we need to harmonize the way this is done across projects (in particular the label names), but these annotations can already give an approximation of the number of participants in typical MRI studies, and be used to validate systems that aim to extract that information automatically.\n",
    "\n",
    "## Loading the data"
   ]
  },
  {
   "cell_type": "code",
   "execution_count": 1,
   "id": "1d5315b3",
   "metadata": {},
   "outputs": [
    {
     "data": {
      "text/html": [
       "<div>\n",
       "<style scoped>\n",
       "    .dataframe tbody tr th:only-of-type {\n",
       "        vertical-align: middle;\n",
       "    }\n",
       "\n",
       "    .dataframe tbody tr th {\n",
       "        vertical-align: top;\n",
       "    }\n",
       "\n",
       "    .dataframe thead th {\n",
       "        text-align: right;\n",
       "    }\n",
       "</style>\n",
       "<table border=\"1\" class=\"dataframe\">\n",
       "  <thead>\n",
       "    <tr style=\"text-align: right;\">\n",
       "      <th></th>\n",
       "      <th>selected_text</th>\n",
       "      <th>extra_data</th>\n",
       "      <th>publication_year</th>\n",
       "    </tr>\n",
       "  </thead>\n",
       "  <tbody>\n",
       "    <tr>\n",
       "      <th>0</th>\n",
       "      <td>eleven</td>\n",
       "      <td>None</td>\n",
       "      <td>2014</td>\n",
       "    </tr>\n",
       "    <tr>\n",
       "      <th>1</th>\n",
       "      <td>11</td>\n",
       "      <td>None</td>\n",
       "      <td>2014</td>\n",
       "    </tr>\n",
       "    <tr>\n",
       "      <th>2</th>\n",
       "      <td>14</td>\n",
       "      <td>None</td>\n",
       "      <td>2013</td>\n",
       "    </tr>\n",
       "    <tr>\n",
       "      <th>3</th>\n",
       "      <td>Twenty one</td>\n",
       "      <td>None</td>\n",
       "      <td>2011</td>\n",
       "    </tr>\n",
       "    <tr>\n",
       "      <th>4</th>\n",
       "      <td>Twenty-four</td>\n",
       "      <td>None</td>\n",
       "      <td>2014</td>\n",
       "    </tr>\n",
       "  </tbody>\n",
       "</table>\n",
       "</div>"
      ],
      "text/plain": [
       "  selected_text extra_data  publication_year\n",
       "0        eleven       None              2014\n",
       "1            11       None              2014\n",
       "2            14       None              2013\n",
       "3    Twenty one       None              2011\n",
       "4   Twenty-four       None              2014"
      ]
     },
     "execution_count": 1,
     "metadata": {},
     "output_type": "execute_result"
    }
   ],
   "source": [
    "import pandas as pd\n",
    "\n",
    "from labelrepo import database\n",
    "\n",
    "connection = database.get_database_connection()\n",
    "\n",
    "annotations = pd.read_sql(\n",
    "    \"\"\"\n",
    "    SELECT selected_text, extra_data, publication_year\n",
    "    FROM  detailed_annotation\n",
    "    WHERE label_name IN\n",
    "      (\"N included\", \"n_participants\", \"n_participants_total\", \"N_Total\")\n",
    "    \"\"\",\n",
    "    connection,\n",
    ")\n",
    "\n",
    "annotations.head()"
   ]
  },
  {
   "cell_type": "markdown",
   "id": "515ddd4b",
   "metadata": {},
   "source": [
    "## Converting the annotated text to integers\n",
    "\n",
    "In some cases, the text providing the number of participants has been highlighted but still needs to be converted to an actual number, as \"Twenty-four\" above.\n",
    "In some other cases, the annotator indicated the numerical value in the `extra_data` column:"
   ]
  },
  {
   "cell_type": "code",
   "execution_count": 2,
   "id": "80644ee0",
   "metadata": {},
   "outputs": [
    {
     "data": {
      "text/html": [
       "<div>\n",
       "<style scoped>\n",
       "    .dataframe tbody tr th:only-of-type {\n",
       "        vertical-align: middle;\n",
       "    }\n",
       "\n",
       "    .dataframe tbody tr th {\n",
       "        vertical-align: top;\n",
       "    }\n",
       "\n",
       "    .dataframe thead th {\n",
       "        text-align: right;\n",
       "    }\n",
       "</style>\n",
       "<table border=\"1\" class=\"dataframe\">\n",
       "  <thead>\n",
       "    <tr style=\"text-align: right;\">\n",
       "      <th></th>\n",
       "      <th>selected_text</th>\n",
       "      <th>extra_data</th>\n",
       "      <th>publication_year</th>\n",
       "    </tr>\n",
       "  </thead>\n",
       "  <tbody>\n",
       "    <tr>\n",
       "      <th>194</th>\n",
       "      <td>Sixty-one</td>\n",
       "      <td>61</td>\n",
       "      <td>2019</td>\n",
       "    </tr>\n",
       "    <tr>\n",
       "      <th>197</th>\n",
       "      <td>Forty-four patients with drug-naive, first-epi...</td>\n",
       "      <td>130</td>\n",
       "      <td>2018</td>\n",
       "    </tr>\n",
       "    <tr>\n",
       "      <th>201</th>\n",
       "      <td>After a detailed evaluation of inclusion and e...</td>\n",
       "      <td>87</td>\n",
       "      <td>2017</td>\n",
       "    </tr>\n",
       "    <tr>\n",
       "      <th>204</th>\n",
       "      <td>Consequently we analysed data for 220 adolesce...</td>\n",
       "      <td>248</td>\n",
       "      <td>2014</td>\n",
       "    </tr>\n",
       "    <tr>\n",
       "      <th>206</th>\n",
       "      <td>Two of them were removed</td>\n",
       "      <td>16</td>\n",
       "      <td>2018</td>\n",
       "    </tr>\n",
       "  </tbody>\n",
       "</table>\n",
       "</div>"
      ],
      "text/plain": [
       "                                         selected_text extra_data  \\\n",
       "194                                          Sixty-one         61   \n",
       "197  Forty-four patients with drug-naive, first-epi...        130   \n",
       "201  After a detailed evaluation of inclusion and e...         87   \n",
       "204  Consequently we analysed data for 220 adolesce...        248   \n",
       "206                           Two of them were removed         16   \n",
       "\n",
       "     publication_year  \n",
       "194              2019  \n",
       "197              2018  \n",
       "201              2017  \n",
       "204              2014  \n",
       "206              2018  "
      ]
     },
     "execution_count": 2,
     "metadata": {},
     "output_type": "execute_result"
    }
   ],
   "source": [
    "annotations[annotations[\"extra_data\"].notnull()].head()"
   ]
  },
  {
   "cell_type": "markdown",
   "id": "bb4e74a0",
   "metadata": {},
   "source": [
    "The following is just defining a function for converting text to numbers,\n",
    "for example \"Twenty-four\" → 24. You can skip over it as it is not very\n",
    "relevant to the rest of this notebook."
   ]
  },
  {
   "cell_type": "code",
   "execution_count": 3,
   "id": "7d0bf996",
   "metadata": {
    "tags": [
     "hide-input"
    ]
   },
   "outputs": [],
   "source": [
    "import re\n",
    "\n",
    "import lark\n",
    "\n",
    "numbers_grammar = r\"\"\"\n",
    "number: NUMBER | text_number\n",
    "\n",
    "?text_number.1: hundred_text_number | dozen_text_number | TEEN_NAME | UNIT_NAME\n",
    "\n",
    "\n",
    "hundred_text_number.1: (dozen_text_number | UNIT_NAME) \"hundred\" [ \"and\" ] [ dozen_text_number | UNIT_NAME ]\n",
    "\n",
    "dozen_text_number.1: DOZEN_NAME [ UNIT_NAME ] | TEEN_NAME\n",
    "\n",
    "UNIT_NAME.1: \"one\"|\"two\"|\"three\"|\"four\"|\"five\"|\"six\"|\"seven\"|\"eight\"|\"nine\"\n",
    "\n",
    "TEEN_NAME.1: \"ten\"|\"eleven\"|\"twelve\"|\"thirteen\"|\"fourteen\"|\"fifteen\"\n",
    "    |\"sixteen\"|\"seventeen\"|\"eighteen\"|\"nineteen\"\n",
    "\n",
    "DOZEN_NAME.1: \"twenty\"|\"thirty\"|/fou?rty/|\"fifty\"|\"sixty\"|\"seventy\"|\"eighty\"\n",
    "    |\"ninety\"\n",
    "\n",
    "\n",
    "WS: /\\s+/\n",
    "PUNCT: /[^a-zA-Z0-9().]/\n",
    "\n",
    "%import common (NUMBER)\n",
    "%ignore WS\n",
    "%ignore PUNCT\n",
    "\"\"\"\n",
    "\n",
    "\n",
    "class NumberTransformer(lark.Transformer):\n",
    "    def number(self, tree) -> int:\n",
    "        return tree[0]\n",
    "\n",
    "    def hundred_text_number(self, tree) -> int:\n",
    "        hundred_part, rest = tree\n",
    "        if rest is None:\n",
    "            return 100 * hundred_part\n",
    "        return 100 * hundred_part + rest\n",
    "\n",
    "    def dozen_text_number(self, tree) -> int:\n",
    "        if len(tree) == 1:\n",
    "            teen = tree[0]\n",
    "            return teen\n",
    "        dozen, unit = tree\n",
    "        if unit is None:\n",
    "            return dozen\n",
    "        return dozen + unit\n",
    "\n",
    "    def UNIT_NAME(self, tree) -> int:\n",
    "        return (\n",
    "            \"zero one two three four five six seven eight nine\".split().index(\n",
    "                tree.value.lower()\n",
    "            )\n",
    "        )\n",
    "\n",
    "    def TEEN_NAME(self, tree) -> int:\n",
    "        return (\n",
    "            \"ten eleven twelve thirteen fourteen fifteen sixteen \"\n",
    "            \"seventeen eighteen nineteen\".split().index(tree.value.lower())\n",
    "            + 10\n",
    "        )\n",
    "\n",
    "    def DOZEN_NAME(self, tree) -> int:\n",
    "        return (\n",
    "            \"zero ten twenty thirty forty fifty sixty \"\n",
    "            \"seventy eighty ninety\".split().index(\n",
    "                tree.value.lower().replace(\"fourty\", \"forty\")\n",
    "            )\n",
    "        ) * 10\n",
    "\n",
    "    def NUMBER(self, tree) -> int:\n",
    "        return int(tree.value)\n",
    "\n",
    "\n",
    "class TextToNumber:\n",
    "    def __init__(self):\n",
    "        self.parser = lark.Lark(\n",
    "            numbers_grammar,\n",
    "            ambiguity=\"resolve\",\n",
    "            start=\"number\",\n",
    "            g_regex_flags=re.I,\n",
    "        )\n",
    "        self.transformer = NumberTransformer()\n",
    "\n",
    "    def __call__(self, text):\n",
    "        try:\n",
    "            parse_tree = self.parser.parse(text.replace(\",\", \"\"))\n",
    "            return self.transformer.transform(parse_tree)\n",
    "        except Exception:\n",
    "            return None\n",
    "\n",
    "\n",
    "text_to_number = TextToNumber()"
   ]
  },
  {
   "cell_type": "code",
   "execution_count": 4,
   "id": "c874fd2a",
   "metadata": {},
   "outputs": [
    {
     "data": {
      "text/html": [
       "<div>\n",
       "<style scoped>\n",
       "    .dataframe tbody tr th:only-of-type {\n",
       "        vertical-align: middle;\n",
       "    }\n",
       "\n",
       "    .dataframe tbody tr th {\n",
       "        vertical-align: top;\n",
       "    }\n",
       "\n",
       "    .dataframe thead th {\n",
       "        text-align: right;\n",
       "    }\n",
       "</style>\n",
       "<table border=\"1\" class=\"dataframe\">\n",
       "  <thead>\n",
       "    <tr style=\"text-align: right;\">\n",
       "      <th></th>\n",
       "      <th>selected_text</th>\n",
       "      <th>extra_data</th>\n",
       "      <th>publication_year</th>\n",
       "      <th>n_participants</th>\n",
       "    </tr>\n",
       "  </thead>\n",
       "  <tbody>\n",
       "    <tr>\n",
       "      <th>0</th>\n",
       "      <td>eleven</td>\n",
       "      <td>None</td>\n",
       "      <td>2014</td>\n",
       "      <td>11</td>\n",
       "    </tr>\n",
       "    <tr>\n",
       "      <th>1</th>\n",
       "      <td>11</td>\n",
       "      <td>None</td>\n",
       "      <td>2014</td>\n",
       "      <td>11</td>\n",
       "    </tr>\n",
       "    <tr>\n",
       "      <th>2</th>\n",
       "      <td>14</td>\n",
       "      <td>None</td>\n",
       "      <td>2013</td>\n",
       "      <td>14</td>\n",
       "    </tr>\n",
       "    <tr>\n",
       "      <th>3</th>\n",
       "      <td>Twenty one</td>\n",
       "      <td>None</td>\n",
       "      <td>2011</td>\n",
       "      <td>21</td>\n",
       "    </tr>\n",
       "    <tr>\n",
       "      <th>4</th>\n",
       "      <td>Twenty-four</td>\n",
       "      <td>None</td>\n",
       "      <td>2014</td>\n",
       "      <td>24</td>\n",
       "    </tr>\n",
       "  </tbody>\n",
       "</table>\n",
       "</div>"
      ],
      "text/plain": [
       "  selected_text extra_data  publication_year  n_participants\n",
       "0        eleven       None              2014              11\n",
       "1            11       None              2014              11\n",
       "2            14       None              2013              14\n",
       "3    Twenty one       None              2011              21\n",
       "4   Twenty-four       None              2014              24"
      ]
     },
     "execution_count": 4,
     "metadata": {},
     "output_type": "execute_result"
    }
   ],
   "source": [
    "def get_n_participants(row):\n",
    "    try:\n",
    "        return int(row[\"extra_data\"])\n",
    "    except (TypeError, ValueError):\n",
    "        return text_to_number(row[\"selected_text\"])\n",
    "\n",
    "annotations[\"n_participants\"] = annotations.apply(get_n_participants, axis=1)\n",
    "annotations.dropna(subset=[\"n_participants\"], inplace=True)\n",
    "annotations[\"n_participants\"] = annotations[\"n_participants\"].astype(int)\n",
    "\n",
    "annotations.head()"
   ]
  },
  {
   "cell_type": "markdown",
   "id": "7b10bce8",
   "metadata": {},
   "source": [
    "## Distribution of sample sizes"
   ]
  },
  {
   "cell_type": "code",
   "execution_count": 5,
   "id": "5be1c9c9",
   "metadata": {},
   "outputs": [
    {
     "data": {
      "image/png": "[encoded data removed]",
      "text/plain": [
       "<Figure size 1000x500 with 1 Axes>"
      ]
     },
     "metadata": {
      "filenames": {
       "image/png": "/home/runner/work/labelbuddy-annotations/labelbuddy-annotations/analysis/book/_build/jupyter_execute/number_of_participants_8_0.png"
      }
     },
     "output_type": "display_data"
    }
   ],
   "source": [
    "from matplotlib import pyplot as plt\n",
    "\n",
    "fig, ax = plt.subplots(figsize=(10, 5))\n",
    "annotations[\"n_participants\"].hist(bins=100, ax=ax)\n",
    "_ = ax.set_ylabel(\"Number of papers\")\n",
    "_ = ax.set_xlabel(\"Number of participants\")"
   ]
  },
  {
   "cell_type": "markdown",
   "id": "2efc2a80",
   "metadata": {},
   "source": [
    "## Sample sizes over time"
   ]
  },
  {
   "cell_type": "code",
   "execution_count": 6,
   "id": "3c1eb3d8",
   "metadata": {},
   "outputs": [
    {
     "data": {
      "image/png": "[encoded data removed]",
      "text/plain": [
       "<Figure size 640x480 with 1 Axes>"
      ]
     },
     "metadata": {
      "filenames": {
       "image/png": "/home/runner/work/labelbuddy-annotations/labelbuddy-annotations/analysis/book/_build/jupyter_execute/number_of_participants_10_0.png"
      }
     },
     "output_type": "display_data"
    }
   ],
   "source": [
    "fig, ax = plt.subplots()\n",
    "annotations.plot.scatter(x=\"publication_year\", y=\"n_participants\", ax=ax, alpha=0.3)\n",
    "ax.set_yscale(\"log\")"
   ]
  }
 ],
 "metadata": {
  "jupytext": {
   "text_representation": {
    "extension": ".md",
    "format_name": "myst",
    "format_version": 0.13,
    "jupytext_version": "1.14.1"
   }
  },
  "kernelspec": {
   "display_name": "Python 3 (ipykernel)",
   "language": "python",
   "name": "python3"
  },
  "language_info": {
   "codemirror_mode": {
    "name": "ipython",
    "version": 3
   },
   "file_extension": ".py",
   "mimetype": "text/x-python",
   "name": "python",
   "nbconvert_exporter": "python",
   "pygments_lexer": "ipython3",
   "version": "3.10.8"
  },
  "source_map": [
   12,
   22,
   40,
   47,
   49,
   55,
   156,
   168,
   172,
   179,
   183
  ]
 },
 "nbformat": 4,
 "nbformat_minor": 5
}