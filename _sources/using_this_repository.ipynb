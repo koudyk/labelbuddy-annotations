{
 "cells": [
  {
   "cell_type": "markdown",
   "id": "307e9a58",
   "metadata": {},
   "source": [
    "# Using this repository"
   ]
  },
  {
   "cell_type": "markdown",
   "id": "1bc7a041",
   "metadata": {},
   "source": [
    "Start by cloning the repository:\n",
    "```bash\n",
    "git clone https://github.com/neurodatascience/labelbuddy-annotations.git\n",
    "cd labelbuddy-annotations\n",
    "```"
   ]
  },
  {
   "cell_type": "markdown",
   "id": "3bc5839b",
   "metadata": {},
   "source": [
    "The documents, labels and annotations are stored in JSON or JSONLines files in the `projects/` directory."
   ]
  },
  {
   "cell_type": "markdown",
   "id": "6e461444",
   "metadata": {},
   "source": [
    "## Building the database\n",
    "\n",
    "We can easily create a [SQLite](https://www.sqlite.org/) database containing all the information in the repository (but if you don't like SQL you can {ref}`use a CSV file instead<using-the-annotations-csv>`):\n",
    "```bash\n",
    "make database\n",
    "```\n",
    "Or equivalently, _e.g._ if `make` is not available:\n",
    "```bash\n",
    "python3 ./scripts/make_database.py\n",
    "```\n",
    "We can then use this database to query the contents of the repository, either with the `sqlite3` interactive command:\n",
    "```bash\n",
    "sqlite3 analysis/data/database.sqlite3\n",
    "```\n",
    "or using **SQLite** bindings that are available in many languages, including Python's standard library module [sqlite3](https://docs.python.org/3/library/sqlite3.html).\n",
    "\n",
    "A small Python package containing a few utilities for working with this repository is also provided in `analysis/labelrepo`. You can install it with\n",
    "```bash\n",
    "pip install -e \"analysis/labelrepo\"\n",
    "```\n",
    "(note the `-e`, or `--editable`, option)."
   ]
  },
  {
   "cell_type": "markdown",
   "id": "250ec6c1",
   "metadata": {},
   "source": [
    "The main tables are `annotation`, `document` and `label`.\n",
    "`detailed_annotation` is a view gathering detailed information about each annotation, such as the `selected_text`, a snippet of surrounding text (`context`), the `label_name` and `annotator_name`, etc.\n",
    "For example, to display a few annotations:"
   ]
  },
  {
   "cell_type": "code",
   "execution_count": 1,
   "id": "6ef01911",
   "metadata": {},
   "outputs": [
    {
     "data": {
      "text/html": [
       "<div class='annotation-set'><div class=\"annotation\"\n",
       "    style='--label-name:\"discard_this_document\"; --label-color:#e0e0e0'>\n",
       "    <div class=\"annotation-header\">discard_this_document</div>\n",
       "    <div class=\"context\">\n",
       "        <span class=\"annotated-text\"\n",
       "            >A</span>lfahel, Leenor and Argueti-Ostrovsky, Shirel and Barel, Shir and Ali Saleh, Mahmood and Kahn, Joy and Azoulay-Ginsburg, Salome and Rothstein, Ayelet and Ebbinghaus, Simon and Gruzman, Arie and Israels…\n",
       "    </div>\n",
       "    <div class=\"annotation-footer\">\n",
       "        <div class=\"extra-data\">not about autism</div>\n",
       "        <div class=\"pcmid\"><a target=\"_blank\"\n",
       "          href=\"https://www.ncbi.nlm.nih.gov/pmc/articles/PMC9409193/\"\n",
       "          >PMC9409193</a></div>\n",
       "        <div class=\"project-name\"><a href=\"projects/autism_mri.html\">autism_mri</a></div>\n",
       "        <div class=\"annotator-name\">Jerome_Dockes</div>\n",
       "    </div>\n",
       "</div>\n",
       "\n",
       "<div class=\"annotation\"\n",
       "    style='--label-name:\"discard\"; --label-color:#c4c4c4'>\n",
       "    <div class=\"annotation-header\">discard</div>\n",
       "    <div class=\"context\">\n",
       "        …cessfully inhibited amyloid aggregation of recombinant mutant SOD1 in a dose-dependent manner, they failed to suppress the accumulation of misfolded SOD1. Moreover, C4 or C5 daily injections to SOD1  <span class=\"annotated-text\"\n",
       "            >mice</span> following onset had no effect on either the accumulation of misfolded SOD1 or the neuroinflammatory response in the spinal cord and, consequently, failed to extend the survival of SOD1  mice or to im…\n",
       "    </div>\n",
       "    <div class=\"annotation-footer\">\n",
       "        <div class=\"extra-data\">not human</div>\n",
       "        <div class=\"pcmid\"><a target=\"_blank\"\n",
       "          href=\"https://www.ncbi.nlm.nih.gov/pmc/articles/PMC9409193/\"\n",
       "          >PMC9409193</a></div>\n",
       "        <div class=\"project-name\"><a href=\"projects/participant_demographics.html\">participant_demographics</a></div>\n",
       "        <div class=\"annotator-name\">Jerome_Dockes</div>\n",
       "    </div>\n",
       "</div>\n",
       "\n",
       "<div class=\"annotation\"\n",
       "    style='--label-name:\"discard\"; --label-color:#c4c4c4'>\n",
       "    <div class=\"annotation-header\">discard</div>\n",
       "    <div class=\"context\">\n",
       "        Fu, Xiaoya and Zhang, Fengyu and Huang, Manli and Zhang, Lulu and Guo, Wenbin\n",
       "Front Psychiatry, 2022\n",
       "\n",
       "# Title\n",
       "\n",
       "<span class=\"annotated-text\"\n",
       "            >Editorial</span>: Brain and Somatization Symptoms in Psychiatric Disorders, Volume II\n",
       "\n",
       "# Keywords\n",
       "\n",
       "structural MRI\n",
       "functional MRI\n",
       "somatic symptoms\n",
       "depression\n",
       "anxiety\n",
       "\n",
       "\n",
       "# Abstract\n",
       "\n",
       "\n",
       "# Body\n",
       "\n",
       "Neuroimaging techniques, su…\n",
       "    </div>\n",
       "    <div class=\"annotation-footer\">\n",
       "        <div class=\"extra-data\"></div>\n",
       "        <div class=\"pcmid\"><a target=\"_blank\"\n",
       "          href=\"https://www.ncbi.nlm.nih.gov/pmc/articles/PMC9023788/\"\n",
       "          >PMC9023788</a></div>\n",
       "        <div class=\"project-name\"><a href=\"projects/participant_demographics.html\">participant_demographics</a></div>\n",
       "        <div class=\"annotator-name\">Jerome_Dockes</div>\n",
       "    </div>\n",
       "</div>\n",
       "\n",
       "<div class=\"annotation\"\n",
       "    style='--label-name:\"Diagnosis\"; --label-color:#ffbb78'>\n",
       "    <div class=\"annotation-header\">Diagnosis</div>\n",
       "    <div class=\"context\">\n",
       "        …d subcortical components of the early visual pathways. Social cognitive deficits, including face emotion recognition (FER) deficits, are characteristic of several neuropsychiatric disorders including <span class=\"annotated-text\"\n",
       "            >schizophrenia</span> (Sz) and autism spectrum disorders (ASD). Here, we investigated potential visual sensory contributions to FER deficits in Sz (  n   = 28, 8/20 female/male; age 21–54 years) and adult ASD (  n   = 20,…\n",
       "    </div>\n",
       "    <div class=\"annotation-footer\">\n",
       "        <div class=\"extra-data\"></div>\n",
       "        <div class=\"pcmid\"><a target=\"_blank\"\n",
       "          href=\"https://www.ncbi.nlm.nih.gov/pmc/articles/PMC8883821/\"\n",
       "          >PMC8883821</a></div>\n",
       "        <div class=\"project-name\"><a href=\"projects/autism_mri.html\">autism_mri</a></div>\n",
       "        <div class=\"annotator-name\">David_Kennedy</div>\n",
       "    </div>\n",
       "</div>\n",
       "\n",
       "<div class=\"annotation\"\n",
       "    style='--label-name:\"Diagnosis\"; --label-color:#ffbb78'>\n",
       "    <div class=\"annotation-header\">Diagnosis</div>\n",
       "    <div class=\"context\">\n",
       "        …s of the early visual pathways. Social cognitive deficits, including face emotion recognition (FER) deficits, are characteristic of several neuropsychiatric disorders including schizophrenia (Sz) and <span class=\"annotated-text\"\n",
       "            >autism spectrum disorders</span> (ASD). Here, we investigated potential visual sensory contributions to FER deficits in Sz (  n   = 28, 8/20 female/male; age 21–54 years) and adult ASD (  n   = 20, 4/16 female/male; age 19–43 years)…\n",
       "    </div>\n",
       "    <div class=\"annotation-footer\">\n",
       "        <div class=\"extra-data\"></div>\n",
       "        <div class=\"pcmid\"><a target=\"_blank\"\n",
       "          href=\"https://www.ncbi.nlm.nih.gov/pmc/articles/PMC8883821/\"\n",
       "          >PMC8883821</a></div>\n",
       "        <div class=\"project-name\"><a href=\"projects/autism_mri.html\">autism_mri</a></div>\n",
       "        <div class=\"annotator-name\">David_Kennedy</div>\n",
       "    </div>\n",
       "</div>\n",
       "</div>"
      ],
      "text/plain": [
       "<labelrepo.displays.AnnotationsDisplay at 0x7fbb1e971720>"
      ]
     },
     "execution_count": 1,
     "metadata": {},
     "output_type": "execute_result"
    }
   ],
   "source": [
    "from labelrepo import database, displays\n",
    "\n",
    "connection = database.get_database_connection()\n",
    "\n",
    "annotations = connection.execute(\"SELECT * FROM detailed_annotation limit 5\")\n",
    "displays.AnnotationsDisplay(annotations)"
   ]
  },
  {
   "cell_type": "markdown",
   "id": "3f663efb",
   "metadata": {},
   "source": [
    "As another example (this time collecting results in a Pandas DataFrame), selecting all snippets of text that have been annotated with \"Diagnosis\":"
   ]
  },
  {
   "cell_type": "code",
   "execution_count": 2,
   "id": "9b5136a9",
   "metadata": {},
   "outputs": [
    {
     "data": {
      "text/html": [
       "<div>\n",
       "<style scoped>\n",
       "    .dataframe tbody tr th:only-of-type {\n",
       "        vertical-align: middle;\n",
       "    }\n",
       "\n",
       "    .dataframe tbody tr th {\n",
       "        vertical-align: top;\n",
       "    }\n",
       "\n",
       "    .dataframe thead th {\n",
       "        text-align: right;\n",
       "    }\n",
       "</style>\n",
       "<table border=\"1\" class=\"dataframe\">\n",
       "  <thead>\n",
       "    <tr style=\"text-align: right;\">\n",
       "      <th></th>\n",
       "      <th>selected_text</th>\n",
       "      <th>occurrences</th>\n",
       "    </tr>\n",
       "  </thead>\n",
       "  <tbody>\n",
       "    <tr>\n",
       "      <th>0</th>\n",
       "      <td>schizophrenia</td>\n",
       "      <td>1</td>\n",
       "    </tr>\n",
       "    <tr>\n",
       "      <th>1</th>\n",
       "      <td>autism spectrum disorders</td>\n",
       "      <td>1</td>\n",
       "    </tr>\n",
       "    <tr>\n",
       "      <th>2</th>\n",
       "      <td>Mild traumatic brain injury (mTBI)</td>\n",
       "      <td>1</td>\n",
       "    </tr>\n",
       "  </tbody>\n",
       "</table>\n",
       "</div>"
      ],
      "text/plain": [
       "                        selected_text  occurrences\n",
       "0                       schizophrenia            1\n",
       "1           autism spectrum disorders            1\n",
       "2  Mild traumatic brain injury (mTBI)            1"
      ]
     },
     "execution_count": 2,
     "metadata": {},
     "output_type": "execute_result"
    }
   ],
   "source": [
    "import pandas as pd\n",
    "\n",
    "pd.read_sql(\n",
    "    \"\"\"\n",
    "    SELECT selected_text, COUNT(*) as occurrences\n",
    "    FROM detailed_annotation\n",
    "    WHERE label_name = \"Diagnosis\"\n",
    "    GROUP BY selected_text\n",
    "    ORDER BY occurrences DESC\n",
    "    \"\"\",\n",
    "    connection,\n",
    ")"
   ]
  },
  {
   "cell_type": "markdown",
   "id": "44e28996",
   "metadata": {},
   "source": [
    "(using-the-annotations-csv)=\n",
    "## Using a CSV rather than a database"
   ]
  },
  {
   "cell_type": "markdown",
   "id": "f77357df",
   "metadata": {},
   "source": [
    "If you prefer working with CSVs than SQL, you can also run (at the root of the repository)\n",
    "```bash\n",
    "make csv\n",
    "```\n",
    "That will create a file `analysis/data/detailed_annotation.csv` containing the detailed annotations table:"
   ]
  },
  {
   "cell_type": "code",
   "execution_count": 3,
   "id": "541a53b4",
   "metadata": {},
   "outputs": [
    {
     "data": {
      "text/html": [
       "<div class='annotation-set'><div class=\"annotation\"\n",
       "    style='--label-name:\"discard_this_document\"; --label-color:#e0e0e0'>\n",
       "    <div class=\"annotation-header\">discard_this_document</div>\n",
       "    <div class=\"context\">\n",
       "        <span class=\"annotated-text\"\n",
       "            >A</span>lfahel, Leenor and Argueti-Ostrovsky, Shirel and Barel, Shir and Ali Saleh, Mahmood and Kahn, Joy and Azoulay-Ginsburg, Salome and Rothstein, Ayelet and Ebbinghaus, Simon and Gruzman, Arie and Israels…\n",
       "    </div>\n",
       "    <div class=\"annotation-footer\">\n",
       "        <div class=\"extra-data\">not about autism</div>\n",
       "        <div class=\"pcmid\"><a target=\"_blank\"\n",
       "          href=\"https://www.ncbi.nlm.nih.gov/pmc/articles/PMC9409193/\"\n",
       "          >PMC9409193</a></div>\n",
       "        <div class=\"project-name\"><a href=\"projects/autism_mri.html\">autism_mri</a></div>\n",
       "        <div class=\"annotator-name\">Jerome_Dockes</div>\n",
       "    </div>\n",
       "</div>\n",
       "\n",
       "<div class=\"annotation\"\n",
       "    style='--label-name:\"discard\"; --label-color:#c4c4c4'>\n",
       "    <div class=\"annotation-header\">discard</div>\n",
       "    <div class=\"context\">\n",
       "        …cessfully inhibited amyloid aggregation of recombinant mutant SOD1 in a dose-dependent manner, they failed to suppress the accumulation of misfolded SOD1. Moreover, C4 or C5 daily injections to SOD1  <span class=\"annotated-text\"\n",
       "            >mice</span> following onset had no effect on either the accumulation of misfolded SOD1 or the neuroinflammatory response in the spinal cord and, consequently, failed to extend the survival of SOD1  mice or to im…\n",
       "    </div>\n",
       "    <div class=\"annotation-footer\">\n",
       "        <div class=\"extra-data\">not human</div>\n",
       "        <div class=\"pcmid\"><a target=\"_blank\"\n",
       "          href=\"https://www.ncbi.nlm.nih.gov/pmc/articles/PMC9409193/\"\n",
       "          >PMC9409193</a></div>\n",
       "        <div class=\"project-name\"><a href=\"projects/participant_demographics.html\">participant_demographics</a></div>\n",
       "        <div class=\"annotator-name\">Jerome_Dockes</div>\n",
       "    </div>\n",
       "</div>\n",
       "\n",
       "<div class=\"annotation\"\n",
       "    style='--label-name:\"discard\"; --label-color:#c4c4c4'>\n",
       "    <div class=\"annotation-header\">discard</div>\n",
       "    <div class=\"context\">\n",
       "        Fu, Xiaoya and Zhang, Fengyu and Huang, Manli and Zhang, Lulu and Guo, Wenbin\n",
       "Front Psychiatry, 2022\n",
       "\n",
       "# Title\n",
       "\n",
       "<span class=\"annotated-text\"\n",
       "            >Editorial</span>: Brain and Somatization Symptoms in Psychiatric Disorders, Volume II\n",
       "\n",
       "# Keywords\n",
       "\n",
       "structural MRI\n",
       "functional MRI\n",
       "somatic symptoms\n",
       "depression\n",
       "anxiety\n",
       "\n",
       "\n",
       "# Abstract\n",
       "\n",
       "\n",
       "# Body\n",
       "\n",
       "Neuroimaging techniques, su…\n",
       "    </div>\n",
       "    <div class=\"annotation-footer\">\n",
       "        <div class=\"extra-data\"></div>\n",
       "        <div class=\"pcmid\"><a target=\"_blank\"\n",
       "          href=\"https://www.ncbi.nlm.nih.gov/pmc/articles/PMC9023788/\"\n",
       "          >PMC9023788</a></div>\n",
       "        <div class=\"project-name\"><a href=\"projects/participant_demographics.html\">participant_demographics</a></div>\n",
       "        <div class=\"annotator-name\">Jerome_Dockes</div>\n",
       "    </div>\n",
       "</div>\n",
       "</div>"
      ],
      "text/plain": [
       "<labelrepo.displays.AnnotationsDisplay at 0x7fbb1e972ec0>"
      ]
     },
     "execution_count": 3,
     "metadata": {},
     "output_type": "execute_result"
    }
   ],
   "source": [
    "from labelrepo import repo\n",
    "\n",
    "csv_file = repo.data_dir() / \"detailed_annotation.csv\"\n",
    "annotations = pd.read_csv(csv_file, nrows=3)\n",
    "displays.AnnotationsDisplay(annotations)"
   ]
  },
  {
   "cell_type": "markdown",
   "id": "61064d0a",
   "metadata": {},
   "source": [
    "Here is all the information in that table for the first annotation:"
   ]
  },
  {
   "cell_type": "code",
   "execution_count": 4,
   "id": "5c329e51",
   "metadata": {},
   "outputs": [
    {
     "data": {
      "text/html": [
       "<style type=\"text/css\">\n",
       "</style>\n",
       "<table id=\"T_328fb\">\n",
       "  <thead>\n",
       "  </thead>\n",
       "  <tbody>\n",
       "    <tr>\n",
       "      <td id=\"T_328fb_row0_col1\" class=\"data row0 col1\" >pmcid</td>\n",
       "      <td id=\"T_328fb_row0_col2\" class=\"data row0 col2\" >9409193</td>\n",
       "    </tr>\n",
       "    <tr>\n",
       "      <td id=\"T_328fb_row1_col1\" class=\"data row1 col1\" >pmid</td>\n",
       "      <td id=\"T_328fb_row1_col2\" class=\"data row1 col2\" >36012668</td>\n",
       "    </tr>\n",
       "    <tr>\n",
       "      <td id=\"T_328fb_row2_col1\" class=\"data row2 col1\" >publication_year</td>\n",
       "      <td id=\"T_328fb_row2_col2\" class=\"data row2 col2\" >2022</td>\n",
       "    </tr>\n",
       "    <tr>\n",
       "      <td id=\"T_328fb_row3_col1\" class=\"data row3 col1\" >journal</td>\n",
       "      <td id=\"T_328fb_row3_col2\" class=\"data row3 col2\" >Int J Mol Sci</td>\n",
       "    </tr>\n",
       "    <tr>\n",
       "      <td id=\"T_328fb_row4_col1\" class=\"data row4 col1\" >title</td>\n",
       "      <td id=\"T_328fb_row4_col2\" class=\"data row4 col2\" >4-Phenylbutyric Acid (4-PBA) Derivatives Prevent SOD1 Amyloid Aggregation In Vitro with No Effect on Disease Progression in SOD1-ALS Mice</td>\n",
       "    </tr>\n",
       "    <tr>\n",
       "      <td id=\"T_328fb_row5_col1\" class=\"data row5 col1\" >label_name</td>\n",
       "      <td id=\"T_328fb_row5_col2\" class=\"data row5 col2\" >discard_this_document</td>\n",
       "    </tr>\n",
       "    <tr>\n",
       "      <td id=\"T_328fb_row6_col1\" class=\"data row6 col1\" >annotator_name</td>\n",
       "      <td id=\"T_328fb_row6_col2\" class=\"data row6 col2\" >Jerome_Dockes</td>\n",
       "    </tr>\n",
       "    <tr>\n",
       "      <td id=\"T_328fb_row7_col1\" class=\"data row7 col1\" >start_char</td>\n",
       "      <td id=\"T_328fb_row7_col2\" class=\"data row7 col2\" >0</td>\n",
       "    </tr>\n",
       "    <tr>\n",
       "      <td id=\"T_328fb_row8_col1\" class=\"data row8 col1\" >end_char</td>\n",
       "      <td id=\"T_328fb_row8_col2\" class=\"data row8 col2\" >1</td>\n",
       "    </tr>\n",
       "    <tr>\n",
       "      <td id=\"T_328fb_row9_col1\" class=\"data row9 col1\" >extra_data</td>\n",
       "      <td id=\"T_328fb_row9_col2\" class=\"data row9 col2\" >not about autism</td>\n",
       "    </tr>\n",
       "    <tr>\n",
       "      <td id=\"T_328fb_row10_col1\" class=\"data row10 col1\" >project_name</td>\n",
       "      <td id=\"T_328fb_row10_col2\" class=\"data row10 col2\" >autism_mri</td>\n",
       "    </tr>\n",
       "    <tr>\n",
       "      <td id=\"T_328fb_row11_col1\" class=\"data row11 col1\" >selected_text</td>\n",
       "      <td id=\"T_328fb_row11_col2\" class=\"data row11 col2\" >A</td>\n",
       "    </tr>\n",
       "    <tr>\n",
       "      <td id=\"T_328fb_row12_col1\" class=\"data row12 col1\" >context</td>\n",
       "      <td id=\"T_328fb_row12_col2\" class=\"data row12 col2\" >Alfahel, Leenor and Argueti-Ostrovsky, Shirel and Barel, Shir and Ali Saleh, Mahmood and Kahn, Joy and Azoulay-Ginsburg, Salome and Rothstein, Ayelet and Ebbinghaus, Simon and Gruzman, Arie and Israels</td>\n",
       "    </tr>\n",
       "    <tr>\n",
       "      <td id=\"T_328fb_row13_col1\" class=\"data row13 col1\" >context_start_char</td>\n",
       "      <td id=\"T_328fb_row13_col2\" class=\"data row13 col2\" >0</td>\n",
       "    </tr>\n",
       "    <tr>\n",
       "      <td id=\"T_328fb_row14_col1\" class=\"data row14 col1\" >context_end_char</td>\n",
       "      <td id=\"T_328fb_row14_col2\" class=\"data row14 col2\" >201</td>\n",
       "    </tr>\n",
       "    <tr>\n",
       "      <td id=\"T_328fb_row15_col1\" class=\"data row15 col1\" >doc_length</td>\n",
       "      <td id=\"T_328fb_row15_col2\" class=\"data row15 col2\" >38925</td>\n",
       "    </tr>\n",
       "    <tr>\n",
       "      <td id=\"T_328fb_row16_col1\" class=\"data row16 col1\" >doc_md5</td>\n",
       "      <td id=\"T_328fb_row16_col2\" class=\"data row16 col2\" >a1891fb1165448d429f632cf5e12a020</td>\n",
       "    </tr>\n",
       "  </tbody>\n",
       "</table>\n"
      ],
      "text/plain": [
       "<pandas.io.formats.style.Styler at 0x7fbb1e9731f0>"
      ]
     },
     "execution_count": 4,
     "metadata": {},
     "output_type": "execute_result"
    }
   ],
   "source": [
    "try:\n",
    "    display = (\n",
    "    annotations.iloc[:1]\n",
    "    .stack()\n",
    "    .reset_index()\n",
    "    .style.hide(\"level_0\", axis=1)\n",
    "    .hide(axis=\"index\")\n",
    "    .hide(axis=\"columns\")\n",
    ")\n",
    "except AttributeError:\n",
    "    # old pandas version\n",
    "    display = annotations.iloc[0]\n",
    "\n",
    "display     "
   ]
  },
  {
   "cell_type": "markdown",
   "id": "3cc8586b",
   "metadata": {},
   "source": [
    "## Using the JSON and JSONLines files directly"
   ]
  },
  {
   "cell_type": "markdown",
   "id": "94f05b6f",
   "metadata": {},
   "source": [
    "`.jsonl` (JSONLines) files contain one JSON dictionary per line. They can\n",
    "easily be parsed for example with the [json](https://docs.python.org/3/library/json.html) Python standard library module. Moreover the\n",
    "`labelrepo` package contains a convenience function for parsing JSON or\n",
    "JSONLines files:"
   ]
  },
  {
   "cell_type": "code",
   "execution_count": 5,
   "id": "59bff434",
   "metadata": {},
   "outputs": [
    {
     "name": "stdout",
     "output_type": "stream",
     "text": [
      "{'annotations': [{'end_byte': 9458, 'end_char': 9450, 'label_name': 'healthy', 'start_byte': 9447, 'start_char': 9439}, {'end_byte': 9458, 'end_char': 9450, 'extra_data': '29', 'label_name': 'count', 'start_byte': 9447, 'start_char': 9439}], 'metadata': {'chapter': 1, 'doi': '10.3390/brainsci10090603', 'field_positions': {'abstract': [334, 1735], 'authors': [0, 69], 'body': [1744, 27005], 'journal': [70, 79], 'keywords': [206, 321], 'publication_year': [81, 85], 'title': [96, 192]}, 'page': 2, 'part': 1, 'pmcid': 7563756, 'pmid': 32887487, 'text_md5': '57be0e414d83cf88df7d14070e3ea9dd'}, 'utf8_text_md5_checksum': '57be0e414d83cf88df7d14070e3ea9dd'}\n",
      "{'annotations': [{'end_byte': 7985, 'end_char': 7967, 'label_name': 'count', 'start_byte': 7983, 'start_char': 7965}, {'end_byte': 309, 'end_char': 308, 'label_name': 'diagnosis', 'start_byte': 280, 'start_char': 279}], 'metadata': {'chapter': 1, 'doi': '10.1016/j.nicl.2016.07.006', 'field_positions': {'abstract': [448, 2844], 'authors': [0, 159], 'body': [2853, 39646], 'journal': [160, 175], 'keywords': [322, 435], 'publication_year': [177, 181], 'title': [192, 308]}, 'page': 3, 'part': 1, 'pmcid': 5030332, 'pmid': 27672554, 'text_md5': '9eef6f93a376b2d0833d2fe6dc4fb6a3'}, 'utf8_text_md5_checksum': '9eef6f93a376b2d0833d2fe6dc4fb6a3'}\n",
      "{'annotations': [{'end_byte': 542, 'end_char': 542, 'label_name': 'diagnosis', 'start_byte': 509, 'start_char': 509}, {'end_byte': 1490, 'end_char': 1486, 'extra_data': '61', 'label_name': 'count', 'start_byte': 1481, 'start_char': 1477}, {'end_byte': 1490, 'end_char': 1486, 'label_name': 'male', 'start_byte': 1481, 'start_char': 1477}], 'metadata': {'chapter': 1, 'doi': '10.3390/jcm8070947', 'field_positions': {'abstract': [638, 2250], 'authors': [0, 366], 'body': [2259, 37662], 'journal': [367, 377], 'keywords': [556, 625], 'publication_year': [379, 383], 'title': [394, 542]}, 'page': 4, 'part': 1, 'pmcid': 6678781, 'pmid': 31261903, 'text_md5': 'bfd271e0496c07e5675e92cb777729c0'}, 'utf8_text_md5_checksum': 'bfd271e0496c07e5675e92cb777729c0'}\n"
     ]
    }
   ],
   "source": [
    "from labelrepo import read_json\n",
    "\n",
    "annotations_file = (\n",
    "    repo.repo_root()\n",
    "    / \"projects\"\n",
    "    / \"participant_demographics\"\n",
    "    / \"annotations\"\n",
    "    / \"Jerome_Dockes.jsonl\"\n",
    ")\n",
    "\n",
    "for row in read_json(annotations_file)[:3]:\n",
    "    print(row)"
   ]
  },
  {
   "cell_type": "markdown",
   "id": "4a133c17",
   "metadata": {},
   "source": [
    "Loading labels from a JSON file:"
   ]
  },
  {
   "cell_type": "code",
   "execution_count": 6,
   "id": "751962a8",
   "metadata": {},
   "outputs": [
    {
     "data": {
      "text/plain": [
       "[{'color': '#aec7e8', 'name': 'FieldStrength', 'shortcut_key': 'f'},\n",
       " {'color': '#ffbb78', 'name': 'Diagnosis', 'shortcut_key': 'd'},\n",
       " {'color': '#98df8a', 'name': 'N_Total', 'shortcut_key': 'n'},\n",
       " {'color': '#ff9896', 'name': 'N_Total_Male'},\n",
       " {'color': '#c5b0d5', 'name': 'N_Total_Female'},\n",
       " {'color': '#dbdb8d', 'name': 'N_Patients'},\n",
       " {'color': '#9edae5', 'name': 'N_Controls'},\n",
       " {'color': '#aec7e8', 'name': 'N_Controls_Male'},\n",
       " {'color': '#ffbb78', 'name': 'N_Controls_Female'},\n",
       " {'color': '#98df8a', 'name': 'N_Patients_Male'},\n",
       " {'color': '#ff9896', 'name': 'N_Patients_Female'},\n",
       " {'color': '#c5b0d5', 'name': 'Age_Mean'},\n",
       " {'color': '#c49c94', 'name': 'Age_Min'},\n",
       " {'color': '#f7b6d2', 'name': 'Age_Max'},\n",
       " {'color': '#dbdb8d', 'name': 'Scanner'},\n",
       " {'color': '#9edae5', 'name': 'AnalysisTool'},\n",
       " {'color': '#aec7e8', 'name': 'MRI_Modality'}]"
      ]
     },
     "execution_count": 6,
     "metadata": {},
     "output_type": "execute_result"
    }
   ],
   "source": [
    "labels_file = (\n",
    "    repo.repo_root()\n",
    "    / \"projects\"\n",
    "    / \"autism_mri\"\n",
    "    / \"labels\"\n",
    "    / \"Article_Terms.json\"\n",
    ")\n",
    "read_json(labels_file)"
   ]
  },
  {
   "cell_type": "markdown",
   "id": "d9bbf100",
   "metadata": {},
   "source": [
    "(obtaining-the-full-datasets)=\n",
    "## Obtaining the full datasets"
   ]
  },
  {
   "cell_type": "markdown",
   "id": "14841bfe",
   "metadata": {},
   "source": [
    "This repository only contains the batches of documents currently being annotated.\n",
    "These are typically part of a larger dataset, usually created with {{ pubget_home }}.\n",
    "It is possible to obtain the full dataset from which the annotated documents were drawn.\n",
    "From the command-line this can be done with the `download_datasets.py` script:\n",
    "\n",
    "```bash\n",
    "python3 ./scripts/download_datasets.py [ PROJECT NAME ]\n",
    "```\n",
    "\n",
    "In Python, it can be done with the `labelrepo.datasets` module:\n",
    "\n",
    "```python\n",
    "from labelrepo import datasets\n",
    "project_datasets = datasets.get_project_datasets(project_name)\n",
    "```\n",
    "\n",
    "The datasets are stored in `analysis/data/datasets/`."
   ]
  }
 ],
 "metadata": {
  "jupytext": {
   "text_representation": {
    "extension": ".md",
    "format_name": "myst",
    "format_version": 0.13,
    "jupytext_version": "1.14.5"
   }
  },
  "kernelspec": {
   "display_name": "Python 3 (ipykernel)",
   "language": "python",
   "name": "python3"
  },
  "language_info": {
   "codemirror_mode": {
    "name": "ipython",
    "version": 3
   },
   "file_extension": ".py",
   "mimetype": "text/x-python",
   "name": "python",
   "nbconvert_exporter": "python",
   "pygments_lexer": "ipython3",
   "version": "3.10.10"
  },
  "source_map": [
   12,
   16,
   24,
   29,
   53,
   59,
   66,
   70,
   83,
   88,
   96,
   102,
   106,
   121,
   125,
   132,
   145,
   149,
   158,
   163
  ]
 },
 "nbformat": 4,
 "nbformat_minor": 5
}