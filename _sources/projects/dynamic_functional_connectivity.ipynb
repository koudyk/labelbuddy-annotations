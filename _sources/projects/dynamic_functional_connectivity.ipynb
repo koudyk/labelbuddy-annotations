{
 "cells": [
  {
   "cell_type": "markdown",
   "id": "477cdbce",
   "metadata": {},
   "source": [
    "% !!!\n",
    "%\n",
    "% Don't edit this page directly!\n",
    "% It has been automatically generated.\n",
    "% Instead, edit the project's README.md file which gets inserted here,\n",
    "% or the templates in /analysis/book_helpers/templates/\n",
    "%\n",
    "% !!!\n",
    "\n",
    "\n",
    "# dynamic_functional_connectivity\n",
    "\n",
    "You can see the full contents of this project [on GitHub](https://github.com/neurodatascience/labelbuddy-annotations/tree/main/projects/dynamic_functional_connectivity/).\n",
    "\n",
    "## Dynamic Functional Connectivity methods\n",
    "\n",
    "The focus of this project is to explore how methods for estimating Dynamic Functional Connectivity (DFC) are used in the literature.\n",
    "Related code and documentation can be found in a dedicated GitHub [repository](https://github.com/neurodatascience/dfc_text_mining).\n",
    "\n",
    "The documents have been collected with **pubget** and the whole **pubget** output can be found on [OSF](https://osf.io/2ekbd).\n",
    "\n",
    "\n",
    "## Labels in this project"
   ]
  },
  {
   "cell_type": "code",
   "execution_count": 1,
   "id": "1faa73e9",
   "metadata": {
    "tags": [
     "remove-input"
    ]
   },
   "outputs": [
    {
     "data": {
      "text/html": [
       "\n",
       "<div class=\"detailed-label-set\">\n",
       "\n",
       "    <details style=\"--label-color: #aec7e8;\">\n",
       "        <summary class=\"label-display\">N participants (1 docs)</summary>\n",
       "\n",
       "        <p><b>Example annotations:</b></p>\n",
       "        <div class=\"annotation-set\">\n",
       "\n",
       "            <div class=\"annotation\">\n",
       "                <div class=\"context\">\n",
       "                    …ons of subject specific time courses of each of the hidden unit expressed in a correlation matrix. \n",
       "\n",
       "\n",
       "### 2.3. An fMRI data application \n",
       "\n",
       "Data used in this work comprised of task-related scans from <mark class=\"annotated-text\">28</mark> (five females) healthy participants, all of whom gave written, informed, IRB-approved consent at Hartford Hospital and were compensated for participation . All participants were scanned during an aud…\n",
       "                </div>\n",
       "                <div class=\"annotation-footer\">\n",
       "                    <div class=\"pcmid\"><a target=\"_blank\"\n",
       "                                          href=\"https://www.ncbi.nlm.nih.gov/pmc/articles/PMC4138493/\"\n",
       "                                       >PMC4138493</a></div>\n",
       "                    <div class=\"annotator-name\">Jerome_Dockes</div>\n",
       "                </div>\n",
       "            </div>\n",
       "\n",
       "        </div>\n",
       "\n",
       "    </details>\n",
       "\n",
       "    <details style=\"--label-color: #ffbb78;\">\n",
       "        <summary class=\"label-display\">N included (0 docs)</summary>\n",
       "\n",
       "        <p>(No annotations with this label in the current project)</p>\n",
       "\n",
       "    </details>\n",
       "\n",
       "</div>\n"
      ],
      "text/plain": [
       "<labelrepo.displays.HTMLDisplay at 0x7feef6f31fc0>"
      ]
     },
     "execution_count": 1,
     "metadata": {},
     "output_type": "execute_result"
    }
   ],
   "source": [
    "from labelrepo import displays\n",
    "text = \"\"\"\n",
    "<div class=\"detailed-label-set\">\n",
    "    \n",
    "    <details style=\"--label-color: #aec7e8;\">\n",
    "        <summary class=\"label-display\">N participants (1 docs)</summary>\n",
    "        \n",
    "        <p><b>Example annotations:</b></p>\n",
    "        <div class=\"annotation-set\">\n",
    "            \n",
    "            <div class=\"annotation\">\n",
    "                <div class=\"context\">\n",
    "                    …ons of subject specific time courses of each of the hidden unit expressed in a correlation matrix. \n",
    "\n",
    "\n",
    "### 2.3. An fMRI data application \n",
    "  \n",
    "Data used in this work comprised of task-related scans from <mark class=\"annotated-text\">28</mark> (five females) healthy participants, all of whom gave written, informed, IRB-approved consent at Hartford Hospital and were compensated for participation . All participants were scanned during an aud…\n",
    "                </div>\n",
    "                <div class=\"annotation-footer\">\n",
    "                    <div class=\"pcmid\"><a target=\"_blank\"\n",
    "                                          href=\"https://www.ncbi.nlm.nih.gov/pmc/articles/PMC4138493/\"\n",
    "                                       >PMC4138493</a></div>\n",
    "                    <div class=\"annotator-name\">Jerome_Dockes</div>\n",
    "                </div>\n",
    "            </div>\n",
    "            \n",
    "        </div>\n",
    "        \n",
    "    </details>\n",
    "    \n",
    "    <details style=\"--label-color: #ffbb78;\">\n",
    "        <summary class=\"label-display\">N included (0 docs)</summary>\n",
    "        \n",
    "        <p>(No annotations with this label in the current project)</p>\n",
    "        \n",
    "    </details>\n",
    "    \n",
    "</div>\n",
    "\"\"\"\n",
    "displays.HTMLDisplay(text)"
   ]
  }
 ],
 "metadata": {
  "jupytext": {
   "text_representation": {
    "extension": ".md",
    "format_name": "myst",
    "format_version": 0.13,
    "jupytext_version": "1.14.1"
   }
  },
  "kernelspec": {
   "display_name": "Python 3",
   "language": "python",
   "name": "python3"
  },
  "language_info": {
   "codemirror_mode": {
    "name": "ipython",
    "version": 3
   },
   "file_extension": ".py",
   "mimetype": "text/x-python",
   "name": "python",
   "nbconvert_exporter": "python",
   "pygments_lexer": "ipython3",
   "version": "3.10.9"
  },
  "source_map": [
   12,
   40
  ]
 },
 "nbformat": 4,
 "nbformat_minor": 5
}