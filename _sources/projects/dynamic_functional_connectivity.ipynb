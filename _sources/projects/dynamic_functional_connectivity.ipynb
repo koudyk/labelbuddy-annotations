{
 "cells": [
  {
   "cell_type": "markdown",
   "id": "828abd92",
   "metadata": {},
   "source": [
    "% !!!\n",
    "%\n",
    "% Don't edit this page directly!\n",
    "% It has been automatically generated.\n",
    "% Instead, edit the project's README.md file which gets inserted here,\n",
    "% or the templates in /analysis/book_helpers/templates/\n",
    "%\n",
    "% !!!\n",
    "\n",
    "\n",
    "# dynamic_functional_connectivity\n",
    "\n",
    "You can see the full contents of this project [on GitHub](https://github.com/neurodatascience/labelbuddy-annotations/tree/main/projects/dynamic_functional_connectivity/).\n",
    "\n",
    "## Dynamic Functional Connectivity methods\n",
    "\n",
    "The focus of this project is to explore how methods for estimating Dynamic Functional Connectivity (DFC) are used in the literature.\n",
    "Related code and documentation can be found in a dedicated GitHub [repository](https://github.com/neurodatascience/dfc_text_mining).\n",
    "\n",
    "The documents have been collected with **pubget** and the whole **pubget** output can be found on [OSF](https://osf.io/2ekbd).\n",
    "\n",
    "\n",
    "\n",
    "\n",
    "## Labels in this project\n",
    "\n",
    "\n",
    "(No labels have been added to this project yet)"
   ]
  },
  {
   "cell_type": "code",
   "execution_count": 1,
   "id": "46e6b10f",
   "metadata": {
    "tags": [
     "remove-input"
    ]
   },
   "outputs": [
    {
     "data": {
      "text/html": [
       "\n",
       "<div class=\"detailed-label-set\">\n",
       "\n",
       "</div>\n"
      ],
      "text/plain": [
       "<labelrepo.displays.HTMLDisplay at 0x7f95598030d0>"
      ]
     },
     "execution_count": 1,
     "metadata": {},
     "output_type": "execute_result"
    }
   ],
   "source": [
    "from labelrepo import displays\n",
    "text = \"\"\"\n",
    "<div class=\"detailed-label-set\">\n",
    "    \n",
    "</div>\n",
    "\"\"\"\n",
    "displays.HTMLDisplay(text)"
   ]
  }
 ],
 "metadata": {
  "jupytext": {
   "text_representation": {
    "extension": ".md",
    "format_name": "myst",
    "format_version": 0.13,
    "jupytext_version": "1.14.1"
   }
  },
  "kernelspec": {
   "display_name": "Python 3",
   "language": "python",
   "name": "python3"
  },
  "language_info": {
   "codemirror_mode": {
    "name": "ipython",
    "version": 3
   },
   "file_extension": ".py",
   "mimetype": "text/x-python",
   "name": "python",
   "nbconvert_exporter": "python",
   "pygments_lexer": "ipython3",
   "version": "3.10.10"
  },
  "source_map": [
   12,
   44
  ]
 },
 "nbformat": 4,
 "nbformat_minor": 5
}