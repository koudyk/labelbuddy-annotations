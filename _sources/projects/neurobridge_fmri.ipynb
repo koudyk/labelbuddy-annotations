{
 "cells": [
  {
   "cell_type": "markdown",
   "id": "94d99029",
   "metadata": {},
   "source": [
    "% !!!\n",
    "%\n",
    "% Don't edit this page directly!\n",
    "% It has been automatically generated.\n",
    "% Instead, edit the project's README.md file which gets inserted here,\n",
    "% or the templates in /analysis/book_helpers/templates/\n",
    "%\n",
    "% !!!\n",
    "\n",
    "\n",
    "# neurobridge_fmri\n",
    "\n",
    "You can see the full contents of this project [on GitHub](https://github.com/neurodatascience/labelbuddy-annotations/tree/main/projects/neurobridge_fmri/).\n",
    "\n",
    "## fMRI tasks in NeuroBridge documents\n",
    "\n",
    "This is a satellite project of the [NeuroBridge annotation project](https://github.com/NeuroBridge/Annotation-Project).\n",
    "The goal is to annotate the tasks used by task-based fMRI acquisitions described in the **NeuroBridge** papers.\n",
    "\n",
    "The documents were copied from [this directory](https://github.com/NeuroBridge/Annotation-Project/tree/main/Phase_1/INPUT_Papers_for_Annotation/All_Papers_For_Annotation_From_Phase_2) in the **NeuroBridge** repository, and converted from WebAnno3 format to [labelbuddy](https://jeromedockes.github.io/labelbuddy/labelbuddy/current/)'s format using [labelutils](https://github.com/jeromedockes/labelutils).\n",
    "\n",
    "As the documents for this project do not come from a [pubget](https://neuroquery.github.io/pubget/pubget.html) download, they have less metadata and a different formatting (no headings or paragraph breaks) than documents in other projects in this repository.\n",
    "Also, a **pubget** dataset is not available for download with `/scripts/download_datasets.py`.\n",
    "But keeping the same version of the documents makes it possible to combine the annotations created here with those of the larger **NeuroBridge** project, down to the character positions, which trumps the other details.\n",
    "\n",
    "\n",
    "\n",
    "\n",
    "\n",
    "## Labels in this project\n",
    "\n",
    "\n",
    "(No labels have been added to this project yet)"
   ]
  },
  {
   "cell_type": "code",
   "execution_count": 1,
   "id": "52258b77",
   "metadata": {
    "tags": [
     "remove-input"
    ]
   },
   "outputs": [
    {
     "data": {
      "text/html": [
       "\n",
       "<div class=\"detailed-label-set\">\n",
       "\n",
       "</div>\n"
      ],
      "text/plain": [
       "<labelrepo.displays.HTMLDisplay at 0x7f9dbc47ee00>"
      ]
     },
     "execution_count": 1,
     "metadata": {},
     "output_type": "execute_result"
    }
   ],
   "source": [
    "from labelrepo import displays\n",
    "text = \"\"\"\n",
    "<div class=\"detailed-label-set\">\n",
    "    \n",
    "</div>\n",
    "\"\"\"\n",
    "displays.HTMLDisplay(text)"
   ]
  }
 ],
 "metadata": {
  "jupytext": {
   "text_representation": {
    "extension": ".md",
    "format_name": "myst",
    "format_version": 0.13,
    "jupytext_version": "1.14.1"
   }
  },
  "kernelspec": {
   "display_name": "Python 3",
   "language": "python",
   "name": "python3"
  },
  "language_info": {
   "codemirror_mode": {
    "name": "ipython",
    "version": 3
   },
   "file_extension": ".py",
   "mimetype": "text/x-python",
   "name": "python",
   "nbconvert_exporter": "python",
   "pygments_lexer": "ipython3",
   "version": "3.10.10"
  },
  "source_map": [
   12,
   49
  ]
 },
 "nbformat": 4,
 "nbformat_minor": 5
}