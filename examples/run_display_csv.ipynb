{
 "cells": [
  {
   "cell_type": "markdown",
   "id": "15215d99",
   "metadata": {},
   "source": [
    "# Data viewer\n",
    "Instructions:\n",
    "1) click \"Run\" on the toolbar above\n",
    "2) click the link that shows up below the first cell"
   ]
  },
  {
   "cell_type": "code",
   "execution_count": null,
   "id": "3fe5c305",
   "metadata": {},
   "outputs": [],
   "source": [
    "!python3 -I display_csv.py"
   ]
  }
 ],
 "metadata": {
  "kernelspec": {
   "display_name": "Python 3",
   "language": "python",
   "name": "python3"
  },
  "language_info": {
   "codemirror_mode": {
    "name": "ipython",
    "version": 3
   },
   "file_extension": ".py",
   "mimetype": "text/x-python",
   "name": "python",
   "nbconvert_exporter": "python",
   "pygments_lexer": "ipython3",
   "version": "3.8.10"
  },
  "vscode": {
   "interpreter": {
    "hash": "31f2aee4e71d21fbe5cf8b01ff0e069b9275f58929596ceb00d14d90e3e16cd6"
   }
  }
 },
 "nbformat": 4,
 "nbformat_minor": 5
}
